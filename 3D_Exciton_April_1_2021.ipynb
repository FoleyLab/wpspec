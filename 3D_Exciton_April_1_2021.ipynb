{
  "nbformat": 4,
  "nbformat_minor": 0,
  "metadata": {
    "colab": {
      "name": "3D_Exciton_April_1_2021.ipynb",
      "provenance": [],
      "collapsed_sections": []
    },
    "kernelspec": {
      "name": "python3",
      "display_name": "Python 3"
    }
  },
  "cells": [
    {
      "cell_type": "markdown",
      "metadata": {
        "id": "Ulx7J6F8zNfP"
      },
      "source": [
        "To do:\n",
        "1. Determine if perturbative series should converge by looking at $\\langle \\psi_{1,0,0} | V' | \\psi_{2,0,0} \\rangle$ compared to $\\frac{1}{2}|E_2 - E_1|$ using both perturbing approaches for different thicknesses (see [Eq. 1.1.47](https://ocw.mit.edu/courses/physics/8-06-quantum-physics-iii-spring-2018/lecture-notes/MIT8_06S18ch1.pdf)) from Barton Zwiebach's awesome notes.\n",
        "\n",
        "#### Result: For 2 ML and the 5 ML case $|\\langle |\\psi_{1,0,0} | V' | \\psi_{2,0,0} \\rangle|$ >$\\frac{1}{2}|E_2 - E_1|$, which suggests the perturbative series will *not* converge.\n",
        "\n",
        "\n",
        "\n",
        "2. Implement 3rd order correction as long as it appears that the series should converge... Since the results from 1. suggest it will not converge, maybe building Hamiltonian matrix in basis of the 0th order states and diagonalizing (i.e. linear variational method) would be better."
      ]
    },
    {
      "cell_type": "code",
      "metadata": {
        "id": "5isPGQC67BrI",
        "colab": {
          "base_uri": "https://localhost:8080/"
        },
        "outputId": "0285aabf-b57c-4ec9-8197-5b4c673e5165"
      },
      "source": [
        "### Reworked code some and now just putting everything in this top block\n",
        "### to compute 1st and 2nd order corrections\n",
        "import numpy as np\n",
        "from matplotlib import pyplot as plt\n",
        "from scipy.special import genlaguerre\n",
        "from scipy.special import sph_harm\n",
        "from scipy.interpolate import UnivariateSpline\n",
        "import math\n",
        "\n",
        "''' Define various constants here! '''\n",
        "###  !!!! npl thickness in nanometers, see page 2 of manuscript\n",
        "#### 2 mL d_nm = 0.7\n",
        "#### 5 mL = 1.9 nm\n",
        "d_nm = 0.7\n",
        "\n",
        "# conversion from nm to atomic units\n",
        "nm_to_au = 18.89725988579\n",
        "\n",
        "# d in atomic units\n",
        "d = d_nm * nm_to_au\n",
        "\n",
        "# electron-hole reduced mass in atomic units\n",
        "mu = 0.22\n",
        "# relative permittivity of NPL... see page 10 of the manuscript\n",
        "eps_m = 10\n",
        "# relative permittivity of medium.... see page 10 of the manuscript\n",
        "eps_sol = 2\n",
        "# k = 4*pi*epsilon_0 in atomic units\n",
        "k = 1\n",
        "# hbar in atomic units\n",
        "hbar = 1\n",
        "# electron charge in atomic units\n",
        "ec = 1\n",
        "\n",
        "''' It is now unclear to me if we can hard-code the bohr radius and\n",
        "    still assume that psi_nlm(r,theta,phi; a0) is an eigenfunction of H_0\n",
        "    so I'm reverting to computing a0 from \\mu and \\epsilon for now \n",
        "# bohr radius in atomic units using Azmain's value\n",
        "#a0b = 0.82*18.89725988579 \n",
        "\n",
        "# zeroth order ground state approach B - using Azmain's value of a0, which is a0b\n",
        "#E_z = -ec**2/(8*np.pi*eps_m * a0b) '''\n",
        "\n",
        "# a0 = 4*pi*epsilon_0 * epsilon_m * hbar^2 / (mu * e^2)\n",
        "# in atomic units, everything is 1 except epsilon_m / mu \n",
        "a0b = eps_m / mu\n",
        "\n",
        "# take the two different approaches for computing the ground-state energy\n",
        "# (1) E_n = -mu * e^4/(n^2 * 2 * (4 pi epsilon_0)^2 epsilon_m^2 \\hbar^2)\n",
        "#     where in atomic units, everything is 1 except\n",
        "#     E_n = -mu / (n^2 * 2 * epsilon_m^2 )\n",
        "# \n",
        "# (2) E_n = -e^2 / (n^2 * 2 * (4 * pi * epsilon_0) * epsilon_m * a0)\n",
        "#     where in atomic units, everything is 1 except\n",
        "#     E_n = -1/(n^2 * 2 * epsilon_m * a0)\n",
        "\n",
        "def En_using_mu(n, redmass, epsilon_m):\n",
        "  return -redmass / (n**2 * 2 * epsilon_m**2)\n",
        "\n",
        "def En_using_a(n, a0, epsilon_m):\n",
        "  return -1/(n**2 * 2 * epsilon_m * a0)\n",
        "\n",
        "# get Eg using approach (1)\n",
        "E1_from_mu = En_using_mu(1, mu, eps_m)\n",
        "# get Eg using approach (2)\n",
        "E1_from_a0 = En_using_a(1, a0b, eps_m)\n",
        "\n",
        "print(\" bohr radius in atomic units:\",a0b)\n",
        "print(\" bohr radius in nm:\",a0b/nm_to_au)\n",
        "print(\" E1 from mu:\", E1_from_mu * 27.211 * 1000)\n",
        "print(\" E1 from a0:\", E1_from_a0 * 27.211 * 1000)\n",
        "print(\" Difference:\",(E1_from_mu-E1_from_a0)*27.211*1000)\n",
        "print(\" Nanoplatlet thickness in nanometers\", d_nm)\n",
        "print(\" Nanoplatlet thickness in atomic units\", d)\n",
        "\n"
      ],
      "execution_count": null,
      "outputs": [
        {
          "output_type": "stream",
          "text": [
            " bohr radius in atomic units: 45.45454545454545\n",
            " bohr radius in nm: 2.405351131818084\n",
            " E1 from mu: -29.9321\n",
            " E1 from a0: -29.9321\n",
            " Difference: 0.0\n",
            " Nanoplatlet thickness in nanometers 0.7\n",
            " Nanoplatlet thickness in atomic units 13.228081920052999\n"
          ],
          "name": "stdout"
        }
      ]
    },
    {
      "cell_type": "code",
      "metadata": {
        "id": "wvuGCv18oeul"
      },
      "source": [
        "\n",
        "# To see if the perturbation is 'small', we need\n",
        "# to know the gap between the 0th order eigenstates\n",
        "# we will use the DeltaE_{1,2} gap\n",
        "# as compared to the size of the <\\psi_{100} | V' | \\psi_{200}>\n",
        "# element to determine if the perturbation is small.\n",
        "\n",
        "# 1/2 * |E_2 - E_1| for when we consider\n",
        "# the solvent to be the perturbation\n",
        "### E_1 to zeroth order\n",
        "E1_zo = En_using_mu(1, mu, eps_m)\n",
        "### E_2 to zeroth order\n",
        "E2_zo = En_using_mu(2, mu, eps_m)\n",
        "\n",
        "gap_npl = 0.5 * np.abs(E2_zo - E1_zo)\n",
        "\n",
        "''' Set up grids for the potential and the wavefunction '''\n",
        "# radius grid in atomic units\n",
        "r_perturb = np.linspace(d/2, 500, 50000)\n",
        "r_array = np.linspace(1e-9, 5000, 50000)\n",
        "# theta grid\n",
        "th = np.linspace(0, np.pi, 100)\n",
        "# phi grid\n",
        "phi = np.linspace(0, 2*np.pi, 100)\n",
        "\n",
        "# perturbing potential\n",
        "V_perturb = ec**2 * (eps_sol - eps_m)/(k*eps_sol*eps_m*r_perturb)\n",
        "# potential in nanoplatlet\n",
        "Vnp = -ec**2/(k * eps_m * r_array)\n",
        "# potential in solvent \n",
        "Vsol = -ec**2/(k*eps_sol * r_array)\n",
        "\n",
        "\n"
      ],
      "execution_count": null,
      "outputs": []
    },
    {
      "cell_type": "code",
      "metadata": {
        "id": "8EaaiPg-TchB"
      },
      "source": [
        "# To get perturbative corrections, we need to be able to generate\n",
        "# 0th-order eigenfunctions and eigenenergies!  \n",
        "\n",
        "# 0th order eigenfunction radial part\n",
        "def R(n,l,r, a0):\n",
        "  '''Returns the radial wavefunction for each value of r where n is the principle quantum number and l is the angular momentum quantum number.'''\n",
        "  norm = np.sqrt( (2/(n*a0))**3 * math.factorial(n - l - 1)/(math.factorial(n+l) * 2 * n))\n",
        "  t1 = np.exp(-r/(n*a0))\n",
        "  t2 = (2*r/(n*a0))**l\n",
        "  #Generates an associated laguerre polynomial as a scipy.special.orthogonal.orthopoly1\n",
        "  Lag = genlaguerre(n-l-1, 2*l+1)\n",
        "  t3 = Lag(2*r/(n*a0))\n",
        "\n",
        "  return norm * t1 * t2 * t3\n",
        "\n",
        "def test_norm(n, l, r, theta, a0):\n",
        "  # bra state\n",
        "  R_bra = R(n, l, r, a0)\n",
        "  Y_bra = sph_harm(0, l, 0, theta)\n",
        "\n",
        "  R_integrand = np.conj(R_bra) * R_bra * r * r\n",
        "  Y_integrand = np.real(np.conj(Y_bra) * Y_bra * np.sin(theta))\n",
        "\n",
        "  R_integral = np.trapz(R_integrand, r)\n",
        "\n",
        "  Y_integral = np.trapz(Y_integrand, theta)\n",
        "\n",
        "  return 2*np.pi*R_integral*Y_integral\n",
        "\n",
        "# return matrix element of Hamiltonian for linear variational method\n",
        "# there are two terms contributing to <\\psi_n,l,m | H | \\psi_n',l',m'>:\n",
        "# = <\\psi_n,l,m | H_0 | \\psi_n',l',m'> + <\\psi_n,l,m | Vp | \\psi_n',l',m'>\n",
        "# = E_n' * delta_{n,n'} * delta_{l,l'} * delta_{m, m'} + <\\psi_n,l,m | Vp | \\psi_n',l',m'>\n",
        "def H_ij(bra_n, bra_l, ket_n, ket_l, Vp, r, theta, a0, npl_thickness):\n",
        "  # Get easy part first\n",
        "  Ej = En_using_mu(ket_n, mu, eps_m)\n",
        "  \n",
        "  # get bra\n",
        "  R_bra = R(bra_n, bra_l, r, a0)\n",
        "  Y_bra = sph_harm(bra_l, 0, 0, theta)\n",
        "\n",
        "  # get ket\n",
        "  R_ket = R(ket_n, ket_l, r, a0)\n",
        "  Y_ket = sph_harm(ket_l, 0, 0, theta)\n",
        "\n",
        "  ### compute integrand over theta\n",
        "  Y_integrand = np.real(np.conj(Y_bra) * Y_ket * np.sin(theta))\n",
        "  ### fit spline to integrand over theta\n",
        "  Y_spline = UnivariateSpline(theta, Y_integrand)\n",
        "  fac_phi = 2*np.pi\n",
        "  dr = r[1]-r[0]\n",
        "  Vp_ij = 0\n",
        "  for i in range(0,len(r)):\n",
        "    th_max = np.arccos(npl_thickness/(2*r[i]))\n",
        "    fac_theta_up = Y_spline.integral(0, th_max)\n",
        "    fac_theta_down = Y_spline.integral(np.pi-th_max, np.pi)\n",
        "    fac_theta = fac_theta_up + fac_theta_down\n",
        "    Vp_ij += R_bra[i] * R_ket[i] * r[i]**2 * Vp[i] * dr * fac_theta\n",
        "  return fac_phi * Vp_ij + Ej * (bra_n == ket_n) * (bra_l == ket_l)\n",
        "\n",
        "\n",
        "\n",
        "#  return <\\psi_100 | V' | psi_nl0 >\n",
        "def pt2_nl(n, l, Vp, r, theta, a0, npl_thickness):\n",
        "  ''' We can factor the integral over phi from the integral over theta and r...\n",
        "      plus integral over theta and r just becomes integral over r weighted by\n",
        "      the slices of theta that extend outslide the platlet since we cannot couple\n",
        "      m != 1 states to the psi_100 state through this potential, so the\n",
        "      0th-order eigenfunctions are all constants along \\theta!!!! '''\n",
        "\n",
        "  ### get 0th-order ket terms\n",
        "  R_bra = R(1, 0, r, a0)\n",
        "  Y_bra = sph_harm(0, 0, 0, theta)\n",
        "\n",
        "  ### get 0th-order bra terms\n",
        "  R_ket = R(n, l, r, a0)\n",
        "  Y_ket = sph_harm(0, l, 0, theta)\n",
        "\n",
        "  #plt.plot(theta, np.conj(Y_bra)*Y_ket * np.sin(theta) , 'green')\n",
        "  #plt.show()\n",
        "  \n",
        "  ### compute integrand over theta\n",
        "  Y_integrand = np.real(np.conj(Y_bra) * Y_ket * np.sin(theta))\n",
        "  ### fit spline to integrand over theta\n",
        "  Y_spline = UnivariateSpline(theta, Y_integrand)\n",
        "  fac_phi = 2*np.pi\n",
        "\n",
        "  dE = 0\n",
        "  dr = r[1]-r[0]\n",
        "  for i in range(0,len(r)):\n",
        "    th_max = np.arccos(d/(2*r[i]))\n",
        "    fac_theta_up = Y_spline.integral(0, th_max)\n",
        "    fac_theta_down = Y_spline.integral(np.pi-th_max, np.pi)\n",
        "    fac_theta = fac_theta_up + fac_theta_down\n",
        "    dE += R_bra[i] * R_ket[i] * r[i]**2 * Vp[i] * dr * fac_theta\n",
        "  return fac_phi * dE\n",
        "\n",
        "\n",
        "\n"
      ],
      "execution_count": null,
      "outputs": []
    },
    {
      "cell_type": "code",
      "metadata": {
        "id": "jmTeiWtANKXr"
      },
      "source": [
        "# bra quantum numbers\n",
        "for bn_val in range(2, 10):\n",
        "  for bl_val in range(0, bn_val):\n",
        "    # ket quantum numbers\n",
        "    \n"
      ],
      "execution_count": null,
      "outputs": []
    },
    {
      "cell_type": "code",
      "metadata": {
        "colab": {
          "base_uri": "https://localhost:8080/"
        },
        "id": "VC2qjimFqnvb",
        "outputId": "d2c0c646-3ad8-4672-e699-9c00cc0f88f0"
      },
      "source": [
        "# Now to see if the perturbation is small,\n",
        "# evaluate <\\psi_{100} | V' | \\psi_{200}> and compare to the gap\n",
        "# between E_2 and E_1 to 0th order\n",
        "\n",
        "V_12 = pt2_nl(2, 0, V_perturb, r_perturb, th, a0b, d )\n",
        "print(np.abs(V_12)/gap_npl)"
      ],
      "execution_count": null,
      "outputs": [
        {
          "output_type": "stream",
          "text": [
            "2.8331418791208836\n"
          ],
          "name": "stdout"
        }
      ]
    },
    {
      "cell_type": "code",
      "metadata": {
        "colab": {
          "base_uri": "https://localhost:8080/",
          "height": 1000
        },
        "id": "dJSEWy5yqWVK",
        "outputId": "930666e1-e393-4431-a607-b3cea742b8e5"
      },
      "source": [
        "### Get 1st order energy correction\n",
        "dE_1 = np.real(pt2_nl(1, 0, V_perturb, r_perturb, th, a0b, d))\n",
        "\n",
        "### Get 2nd order energy correction\n",
        "dE_2 = 0.\n",
        "\n",
        "### arrays for zeroth and first order |R_10> states\n",
        "R_zero_order = R(1, 0, r_array, a0b)\n",
        "R_first_order = np.copy(R_zero_order)\n",
        "\n",
        "tn = test_norm(1, 0, r_array, th, a0b)\n",
        "print(\" Testing normalization of R_10 * Y_00:\", tn)\n",
        "# E_1^{0} for denominator\n",
        "print(\"\")\n",
        "print(\" Going to print coefficients for each term in the 2nd order correctio\")\n",
        "E_1 = En_using_mu(1, mu, eps_m)\n",
        "for n_val in range(2, 10):\n",
        "  # E_n^{0} for denominator\n",
        "  E_n = En_using_mu(n_val, mu,  eps_m)\n",
        "  for l_val in range(0, n_val):\n",
        "    # < psi_100 | V' | psi_nl0> for numerator\n",
        "    num = pt2_nl(n_val, l_val, V_perturb, r_perturb, th, a0b, d )\n",
        "    den = E_1 - E_n\n",
        "    print(\"  c_\",n_val,l_val,0,\": \",num/den)\n",
        "    dE_2 += np.abs(num**2)/den\n",
        "    R_first_order += num/den * R(n_val, l_val, r_array, a0b)\n",
        "    ### uncomment if you want to test normalization of states!\n",
        "    ##tn = test_norm(n_val, l_val, r_array, th, a0b)\n",
        "    ##print(\" Test Norm \", n_val, l_val, tn)\n",
        "\n",
        "print(\"\")\n",
        "print(\"\")\n",
        "print(\" FINAL RESULTS FOR NPL thickness \",d_nm, \"nm\")\n",
        "print(\" Binding Energy:\", -1*(E_1+dE_1+dE_2)*27.211*1000, \"meV\")\n",
        "print(\"\")\n",
        "print(\" Components:\")\n",
        "print(\" E^{0}\",-1*E_1*27.211*1000)\n",
        "print(\" E^{1}\",-1*dE_1*27.211*1000)\n",
        "print(\" E^{2}\",-1*dE_2*27.211*1000)\n",
        "\n",
        "Norm_z0 = np.trapz(R_zero_order**2 * r_array**2, r_array)\n",
        "Norm_f0 = np.trapz(R_first_order**2 * r_array**2, r_array)\n",
        "\n",
        "r_num_z0 = np.trapz(R_zero_order**2 * r_array**3, r_array)\n",
        "r_num_f0 = np.trapz(R_first_order**2 * r_array**3, r_array)\n",
        "\n",
        "r_expt_z0 = r_num_z0 / Norm_z0\n",
        "\n",
        "r_expt_f0 = r_num_f0 / Norm_f0\n",
        "\n",
        "print(\" Note <r> for R_10^{(0)} should be 3/2 * a0 or\", a0b*3/2,\"atomic units\")\n",
        "print(\" <r> for 0th order:\", r_expt_z0)\n",
        "print(\" <r> for 1st order:\", r_expt_f0)\n",
        "\n",
        "\n",
        "#R_zero_order *= (1/Norm_z0)\n",
        "#R_first_order *= (1/Norm_f0)\n",
        "plt.plot(r_array, R_zero_order**2*r_array**2, 'red')\n",
        "plt.plot(r_array, R_first_order**2*r_array**2, 'blue')\n",
        "plt.xlim(0, 500)\n",
        "plt.show()"
      ],
      "execution_count": null,
      "outputs": [
        {
          "output_type": "stream",
          "text": [
            " Testing normalization of R_10 * Y_00: 0.9999160819454347\n",
            "\n",
            " Going to print coefficients for each term in the 2nd order correctio\n",
            "  c_ 2 0 0 :  1.4165709395604418\n",
            "  c_ 2 1 0 :  -5.449335217015485e-16\n",
            "  c_ 3 0 0 :  0.6051890564778333\n",
            "  c_ 3 1 0 :  -2.4590050245494517e-16\n",
            "  c_ 3 2 0 :  0.004722340416621807\n",
            "  c_ 4 0 0 :  0.36392965161790247\n",
            "  c_ 4 1 0 :  -1.5046808647894342e-16\n",
            "  c_ 4 2 0 :  0.0034395834599662478\n",
            "  c_ 4 3 0 :  1.4501216560235785e-17\n",
            "  c_ 5 0 0 :  0.2515731111562361\n",
            "  c_ 5 1 0 :  -1.0482956041338769e-16\n",
            "  c_ 5 2 0 :  0.0025627414730536435\n",
            "  c_ 5 3 0 :  1.2753999598651806e-17\n",
            "  c_ 5 4 0 :  3.5374352864607473e-07\n",
            "  c_ 6 0 0 :  0.18787805618822503\n",
            "  c_ 6 1 0 :  -7.861628121821323e-17\n",
            "  c_ 6 2 0 :  0.001987986483696265\n",
            "  c_ 6 3 0 :  1.0572196466631995e-17\n",
            "  c_ 6 4 0 :  4.052384619811222e-07\n",
            "  c_ 6 5 0 :  4.1699043488041366e-20\n",
            "  c_ 7 0 0 :  0.14745644957552861\n",
            "  c_ 7 1 0 :  -6.185676750804578e-17\n",
            "  c_ 7 2 0 :  0.0015951158260546986\n",
            "  c_ 7 3 0 :  8.781833600506075e-18\n",
            "  c_ 7 4 0 :  3.9309938346077563e-07\n",
            "  c_ 7 5 0 :  4.814805371241339e-20\n",
            "  c_ 7 6 0 :  -4.060779590352681e-09\n",
            "  c_ 8 0 0 :  0.11983454176604043\n",
            "  c_ 8 1 0 :  -5.035094429586012e-17\n",
            "  c_ 8 2 0 :  0.0013146239876608765\n",
            "  c_ 8 3 0 :  7.389021317556455e-18\n",
            "  c_ 8 4 0 :  3.619561694621647e-07\n",
            "  c_ 8 5 0 :  4.759813956937518e-20\n",
            "  c_ 8 6 0 :  -5.138231132219379e-09\n",
            "  c_ 8 7 0 :  4.515571163539662e-23\n",
            "  c_ 9 0 0 :  0.09994003764081022\n",
            "  c_ 9 1 0 :  -4.203828537999058e-17\n",
            "  c_ 9 2 0 :  0.0011068190869406949\n",
            "  c_ 9 3 0 :  6.305433304263252e-18\n",
            "  c_ 9 4 0 :  3.272974126228525e-07\n",
            "  c_ 9 5 0 :  4.4695474071636185e-20\n",
            "  c_ 9 6 0 :  -5.4247874619034655e-09\n",
            "  c_ 9 7 0 :  6.199993592492036e-23\n",
            "  c_ 9 8 0 :  -6.906758200370976e-12\n",
            "\n",
            "\n",
            " FINAL RESULTS FOR NPL thickness  0.7 nm\n",
            " Binding Energy: 272.6361241358881 meV\n",
            "\n",
            " Components:\n",
            " E^{0} 29.9321\n",
            " E^{1} 179.99170296425098\n",
            " E^{2} 62.71232117163709\n",
            " Note <r> for R_10^{(0)} should be 3/2 * a0 or 68.18181818181819 atomic units\n",
            " <r> for 0th order: 68.18181818196018\n",
            " <r> for 1st order: 181.11375531119157\n"
          ],
          "name": "stdout"
        },
        {
          "output_type": "display_data",
          "data": {
            "image/png": "[encoded data removed]",
            "text/plain": [
              "<Figure size 432x288 with 1 Axes>"
            ]
          },
          "metadata": {
            "tags": [],
            "needs_background": "light"
          }
        }
      ]
    },
    {
      "cell_type": "markdown",
      "metadata": {
        "id": "e1AkgVncJZFf"
      },
      "source": [
        "### Perturbative correction to dielectric screening of the coulomb potential\n",
        "\n",
        "We assume that within the nanoplatlet and in the solvent, the exciton experiences a coulomb potential that is screened by the dielectric constant of the nanoplatlet and solvent, respectively.  In the coordinate system of the exciton that has thickness $d$ along the $z$ axis, the columb potential can be written as\n",
        "\n",
        "$$ V_{npl}(r) = -\\frac{e^2}{4\\pi \\epsilon_{npl}\\epsilon_0 r} \\; \\; {\\rm when} \\; |r \\: {\\rm cos}(\\theta)| \\leq \\frac{d}{2} $$\n",
        "\n",
        "while in the solvent, the potential has the same coulomb form but is screened by the dielectric of the solvent rather than the nanoplatlet:\n",
        "\n",
        "$$ V_{sol}(r) = -\\frac{e^2}{4\\pi \\epsilon_{sol}\\epsilon_0 r} \\; \\; {\\rm when} \\; |r \\: {\\rm cos}(\\theta)| > \\frac{d}{2}.$$\n",
        "\n",
        "The ground state energy of the exciton to 2$^{nd}$ order in perturbation theory then is \n",
        "\n",
        "$$ E_g = E_1^{(0)} + E_1^{(1)} + E_1^{(2)}, $$\n",
        "and the binding energy is \n",
        "$$ E_B = -E_g \\equiv -E_1^{(0)} - E_1^{(0)} - E_1^{(2)}.$$\n",
        "\n",
        "Here we assume \n",
        "\n",
        "$$ \\hat{H}_0 = -\\frac{\\hbar^2}{2\\mu} \\nabla^2 + V_{npl}(r) $$\n",
        "where $\\mu = \\frac{m_e \\cdot m_h}{m_e + m_h}$ and is taken to be 0.22 $m_e$ in this work.    \n",
        "\n",
        "$E_1^{(0)}$ is the ordinary 3D hydrogen ground state energy with $\\epsilon_{npl}$ screening the coulomb potential and the electron mass replaced by $\\mu$.  We compute $E_1^{(0)}$ as follows:\n",
        "\n",
        "\n",
        "$$ E_1^{(0)}  =  -\\frac{ e^2}{8\\pi\\epsilon_{npl} \\epsilon_0 a_0 }. $$\n",
        "\n",
        "The first-order energy correction can be written as\n",
        "\n",
        "$$ E_1^{(1)} = \\int_0^{\\infty} r^2 dr \\int_0^{\\pi}{\\rm sin}\\left( \\theta \\right) d\\theta   \\int_0^{2\\pi} d\\phi  \\: \\psi^{(0)*}_{100} (r, \\theta, \\phi) V'(r,\\theta) \\psi^{(0)}_{100} (r, \\theta, \\phi),  $$\n",
        "\n",
        "where \n",
        "\\begin{align} \n",
        "V'(r,\\theta) &= \\left(V_{sol}(r) - V_{npl}(r)\\right) H(|r \\: {\\rm cos}(\\theta)|-\\frac{d}{2}) \\\\\n",
        "V'(r,\\theta) &= \\frac{e^2\\left(\\epsilon_{sol}-\\epsilon_{npl} \\right)}{4\\pi \\epsilon_{sol}\\epsilon_{npl}\\epsilon_0 r} H(|r \\: {\\rm cos}(\\theta)|-\\frac{d}{2}),\n",
        "\\end{align}\n",
        "where $H(|r \\: {\\rm cos}(\\theta)|-\\frac{d}{2})$ is the Heaviside function that turns the perturbating potential on for regions of the excitonic coordinate the extend beyond the nanoplatlet.\n",
        "\n",
        "\n",
        "The zeroth-order ground-state wavefunction is\n",
        "\n",
        "$$ \\psi^{(0)}_{1,0,0}(r,\\theta, \\phi) = \\frac{1}{\\sqrt{\\pi}} \\left( \\frac{Z}{a_0}\\right)^{3/2} e^{-Zr/a_0} \\equiv R_{1,0}(r) Y_0^0(\\theta, \\phi), $$\n",
        "where\n",
        "\n",
        "$$a_0 = \\frac{4 \\pi \\epsilon_{npl} \\epsilon_0 \\hbar^2}{\\mu e^2} $$ \n",
        "\n",
        "and $Z = 1$.\n",
        "\n",
        "$R_{1,0}$ is the Hydrogenic $1s$ radial function,\n",
        "and $Y_{0,0}$ is the Spherical harmonic with $l=0, m=0$.\n",
        "We can factor out the integral over $\\phi$ \n",
        "and parameterize the range of integration \n",
        "over $\\theta$ in terms of $r$:\n",
        "\n",
        "$$ E_1^{(1)} =  2\\pi  \\int_{d/2}^{\\infty} dr  \\: r^2  R_{1,0}^2(r) V'(r) \\left(\\int_0^{f(r)} d\\theta \\:{\\rm sin}(\\theta) |Y_{0,0}(\\theta, 0)|^2 +  \\int_{\\pi - f(r)}^{\\pi} d\\theta \\:{\\rm sin}(\\theta) |Y_{0,0}(\\theta, 0)|^2 \\right),  $$\n",
        "\n",
        "where $f(r) = {\\rm cos}^{-1}\\left(\\frac{d}{2r} \\right).$\n",
        "\n",
        "The second-order energy correction can be written\n",
        "\\begin{align}\n",
        "& E_1^{(2)} = \\sum_{n,l} \\frac{2\\pi}{E_1^{(0)}-E_n^{(0)}} \\times \\\\\n",
        "&\\int_{d/2}^{\\infty} dr  \\: r^2  R_{1,0} V'(r) R_{n,l} \\left(\\int_0^{f(r)} d\\theta \\:{\\rm sin}(\\theta) Y^*_{0,0}(\\theta, 0)Y_{l,0}(\\theta, 0) +  \\int_{\\pi - f(r)}^{\\pi} d\\theta \\:{\\rm sin}(\\theta) Y^*_{0,0}(\\theta, 0)Y_{l,0}(\\theta, 0) \\right).\n",
        "\\end{align}\n"
      ]
    },
    {
      "cell_type": "code",
      "metadata": {
        "colab": {
          "base_uri": "https://localhost:8080/"
        },
        "id": "b23pRZV7_OLq",
        "outputId": "d07c5651-c474-4aec-9bbb-a38c2a4c3e82"
      },
      "source": [
        "''' Define various constants here! '''\n",
        "# electron-hole reduced mass in atomic units\n",
        "mu = 0.22\n",
        "# relative permittivity of NPL... see page 10 of the manuscript\n",
        "eps_m = 10\n",
        "# relative permittivity of medium.... see page 10 of the manuscript\n",
        "eps_sol = 2\n",
        "# k = 4*pi*epsilon_0 in atomic units\n",
        "k = 1\n",
        "# hbar in atomic units\n",
        "hbar = 1\n",
        "# electron charge in atomic units\n",
        "ec = 1\n",
        "# bohr radius in atomic units in approach a\n",
        "a0a = k*hbar**2*eps_m/(mu*ec**2)\n",
        "\n",
        "# bohr radius in atomic units in approach b\n",
        "a0b = 0.82*18.89725988579 \n",
        "\n",
        "\n",
        "# zeroth order ground state approach A\n",
        "E_z_1A = -mu*ec**4/(2 * (k * eps_m)**2 * hbar**2)\n",
        "\n",
        "# zeroth order ground state approach B - using Azmain's value of a0, which is a0b\n",
        "# !!! JJF Note... 4\\pi \\epsilon_0 is 1 in atomic units, so this \n",
        "# expression should just be -1/(2*eps_m * a0b)\n",
        "E_z_1B = -ec**2/(2*eps_m * a0b)\n",
        "\n",
        "# npl thickness in nanometers, see page 2 of manuscript\n",
        "#### 2 mL d_nm = 0.7\n",
        "#### 5 mL = 1.9 nm\n",
        "d_nm = 0.7\n",
        "\n",
        "# conversion from nm to atomic units\n",
        "nm_to_au = 18.89725988579\n",
        "\n",
        "# d in atomic units\n",
        "d = d_nm * nm_to_au\n",
        "\n",
        "''' print out some information here! '''\n",
        "print(\"  a_{0,a} in atomic units\", a0a)\n",
        "print(\"  a_{0,a} in nm\", a0a/nm_to_au)\n",
        "\n",
        "print(\"  a_{0,b} in atomic units\", a0b)\n",
        "print(\"  a_{0,b} in nm\", a0b/nm_to_au)\n",
        "\n",
        "print(\"  Nanoplatlet thickness in nanometers\", d_nm)\n",
        "print(\"  Nanoplatlet thickness in atomic units\", d)\n",
        "\n",
        "print(\"  E_{1,A}^{(0)} in atomic units\", E_z_1A)\n",
        "print(\"  E_{1,A}^{(0)} in meV\", E_z_1A*27.211*1000)\n",
        "\n",
        "print(\"  E_{1,B}^{(0)} in atomic units\", E_z_1B)\n",
        "print(\"  E_{1,B}^{(0)} in meV\", E_z_1B*27.211*1000)\n"
      ],
      "execution_count": null,
      "outputs": [
        {
          "output_type": "stream",
          "text": [
            "  a_{0,a} in atomic units 45.45454545454545\n",
            "  a_{0,a} in nm 2.405351131818084\n",
            "  a_{0,b} in atomic units 15.495753106347799\n",
            "  a_{0,b} in nm 0.82\n",
            "  Nanoplatlet thickness in nanometers 0.7\n",
            "  Nanoplatlet thickness in atomic units 13.228081920052999\n",
            "  E_{1,A}^{(0)} in atomic units -0.0011\n",
            "  E_{1,A}^{(0)} in meV -29.9321\n",
            "  E_{1,B}^{(0)} in atomic units -0.003226690542682796\n",
            "  E_{1,B}^{(0)} in meV -87.80147635694156\n"
          ],
          "name": "stdout"
        }
      ]
    },
    {
      "cell_type": "code",
      "metadata": {
        "colab": {
          "base_uri": "https://localhost:8080/",
          "height": 265
        },
        "id": "JEh9NKVQjsvF",
        "outputId": "72bf67cb-3565-4888-e0ed-578596c22a90"
      },
      "source": [
        "''' Set up grids for the potential and the wavefunction '''\n",
        "# radius grid in atomic units\n",
        "r = np.linspace(1e-9, 250, 500)\n",
        "# theta grid\n",
        "th = np.linspace(0, np.pi, 500)\n",
        "\n",
        "# theta part of psi_100\n",
        "TH = np.sin(th)\n",
        "\n",
        "# psi_100\n",
        "psi_100_a = (1/np.sqrt(np.pi))*(1/a0a)**(3/2) * np.exp(-r/a0a)\n",
        "psi_100_b = (1/np.sqrt(np.pi))*(1/a0b)**(3/2) * np.exp(-r/a0b)\n",
        "\n",
        "\n",
        "\n",
        "Vp = -ec**2 * (eps_sol - eps_m)/(k*eps_sol*eps_m*r)\n",
        "\n",
        "# print both spline and trapezoid rule\n",
        "plt.plot(r, psi_100_a*psi_100_a*r*r, 'red', label='a_{0,a}')\n",
        "plt.plot(r, psi_100_b*psi_100_b*r*r, 'b--', label='a_{a,b}')\n",
        "plt.legend()\n",
        "plt.show()\n",
        "\n"
      ],
      "execution_count": null,
      "outputs": [
        {
          "output_type": "display_data",
          "data": {
            "image/png": "[encoded data removed]",
            "text/plain": [
              "<Figure size 432x288 with 1 Axes>"
            ]
          },
          "metadata": {
            "tags": [],
            "needs_background": "light"
          }
        }
      ]
    },
    {
      "cell_type": "code",
      "metadata": {
        "colab": {
          "base_uri": "https://localhost:8080/"
        },
        "id": "qxg6NpCB6MNO",
        "outputId": "15ffa030-5c68-4d80-e204-c3548ce953f4"
      },
      "source": [
        "dtheta = th[1]-th[0]\n",
        "\n",
        "dr = r[1]-r[0]\n",
        "\n",
        "\n",
        "### factor out integral over phi\n",
        "dE_1_a = 0\n",
        "dE_1_b = 0\n",
        "for i in range(0,len(r)):\n",
        "  for j in range(0,len(th)):\n",
        "    if abs(r[i] * np.cos(th[j])) > d/2:\n",
        "      dE_1_a += psi_100_a[i]**2 * r[i]**2 * Vp[i] * dr * TH[j] * dtheta * 2*np.pi\n",
        "      dE_1_b += psi_100_b[i]**2 * r[i]**2 * Vp[i] * dr * TH[j] * dtheta * 2*np.pi\n",
        "\n",
        "print(\" E^{(0)}_{1,A}:\", E_z_1A*27.211*1000, \"meV\")\n",
        "print(\" E^{(0)}_{1,B}:\", E_z_1B*27.211*1000, \"meV\")\n",
        "\n",
        "print(\" E^{(1)}_{1,A}:\", dE_1_a * 27.211 * 1000, \"meV\")\n",
        "print(\" E^{(1)}_{1,B}:\", dE_1_b * 27.211 * 1000, \"meV\")\n",
        "\n",
        "print(\" E_{1,Aa}:\", (E_z_1A+dE_1_a)*27.211*1000, \"meV\" )\n",
        "print(\" E_{1,Ab}:\", (E_z_1A+dE_1_b)*27.211*1000, \"meV\" )\n",
        "print(\" E_{1,Ba}:\", (E_z_1B+dE_1_a)*27.211*1000, \"meV\" )\n",
        "print(\" E_{1,Bb}:\", (E_z_1B+dE_1_b)*27.211*1000, \"meV\" )"
      ],
      "execution_count": null,
      "outputs": [
        {
          "output_type": "stream",
          "text": [
            " E^{(0)}_{1,A}: -29.9321 meV\n",
            " E^{(0)}_{1,B}: -87.80147635694156 meV\n",
            " E^{(1)}_{1,A}: 178.97481770641843 meV\n",
            " E^{(1)}_{1,B}: 299.1744137203862 meV\n",
            " E_{1,Aa}: 149.04271770641841 meV\n",
            " E_{1,Ab}: 269.2423137203862 meV\n",
            " E_{1,Ba}: 91.17334134947686 meV\n",
            " E_{1,Bb}: 211.37293736344463 meV\n"
          ],
          "name": "stdout"
        }
      ]
    },
    {
      "cell_type": "code",
      "metadata": {
        "colab": {
          "base_uri": "https://localhost:8080/",
          "height": 269
        },
        "id": "z2EtOFtpDE8c",
        "outputId": "94f21cc8-0c13-4982-feb3-2d561cd14c14"
      },
      "source": [
        "plt.plot(r, Vp, 'r-o', label=\"V\")\n",
        "plt.ylim(0,1)\n",
        "plt.legend()\n",
        "plt.show()"
      ],
      "execution_count": null,
      "outputs": [
        {
          "output_type": "display_data",
          "data": {
            "image/png": "[encoded data removed]",
            "text/plain": [
              "<Figure size 432x288 with 1 Axes>"
            ]
          },
          "metadata": {
            "tags": [],
            "needs_background": "light"
          }
        }
      ]
    }
  ]
}