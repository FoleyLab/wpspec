{
 "cells": [
  {
   "cell_type": "markdown",
   "metadata": {
    "id": "k8WOAqiHh8OX"
   },
   "source": [
    "Energy of 3D Hydrogen Atom in atomic units:\n",
    "\\begin{equation}\n",
    "E_n = -\\frac{E_{a.u.}}{2} \\frac{1}{n^2}\n",
    "\\end{equation}\n",
    "Energy of 2D Hydrogen Atom in atomic units\n",
    "\\begin{equation}\n",
    "E_n = -\\frac{E_{a.u.}}{2(n- \\frac{1}{2})^2}\n",
    "\\end{equation}\n",
    "\n",
    "Reminder of atomic units:\n",
    "\\begin{align}\n",
    "m_e = 1 a.u. \\: (mass) \\\\\n",
    "e = 1 a.u. \\: (charge) \\\\\n",
    "\\frac{1}{4\\pi \\epsilon_0} =  1 a.u. \\: (permittivity^{-1}) \\\\\n",
    "\\frac{4\\pi \\epsilon_0 \\hbar^2}{m_e e^2} = 1 a.u. \\: (length) \\\\\n",
    "\\frac{m_e e^4}{\\left(4\\pi \\epsilon_0\\right)^2 \\hbar^2} = 1 a.u. \\: (energy)\n",
    "\\end{align}\n",
    "\n",
    "Natural Units for Excitonic System and their relation to SI units:\n",
    "\\begin{align}\n",
    "m_h \\: (mass) \\rightarrow 1 a.u. = \\frac{m_h}{m_e} \\cdot 9.1093 \\cdot 10^{-31} \\: kg \\\\\n",
    "\\frac{1}{4\\pi \\epsilon_{m} \\epsilon_0} \\: (permittivity^{-1}) \\rightarrow  1 a.u. = \\frac{1}{\\epsilon_m}8.987 \\cdot 10^9 m^3 \\: kg \\: s^{-4} \\: A^{-2}  \\\\\n",
    "e \\: (charge) \\rightarrow 1 a.u. = 1.6021 \\cdot 10^{-19} C \\\\\n",
    "\\hbar \\: (action) \\rightarrow 1 a.u. = 1.0545 \\cdot 10^{-34} m^2 \\: kg \\: s^{-1}\n",
    "\\end{align}\n",
    "\n",
    "Taken together, the energy in natural units for the excitonic system\n",
    "is \n",
    "\\begin{equation}\n",
    "E_{Nat.} = \\frac{m_h}{m_e \\epsilon_m^2 } \\cdot E_{a.u.}\n",
    "\\end{equation}\n",
    "where $E_{a.u.}$ is 1 Hartree.  \n",
    "\n",
    "###The binding energy for the 2D excitonic system is \n",
    "\\begin{equation}\n",
    "E_{binding} = 2 E_{Nat} = 2 \\cdot \\frac{m_h}{m_e \\epsilon_m^2} \\cdot E_{a.u.}\n",
    "\\end{equation}\n",
    "Assuming the binding energy has been measured in electron volts, we can re-arrange for the effective dielectric function of the nanoplatlet:\n",
    "\\begin{equation}\n",
    "\\epsilon_m = \\sqrt{\\frac{2 m_h}{m_e} \\cdot \\frac{27.211 eV}{E_{binding}}}\n",
    "\\end{equation}\n",
    "\n",
    "###The binding energy for the 3D excitonic system is \n",
    "\\begin{equation}\n",
    "E_{binding} = \\frac{1}{2} E_{Nat} =  \\frac{m_h}{2m_e \\epsilon_m^2} \\cdot E_{a.u.}\n",
    "\\end{equation}\n",
    "Assuming the binding energy has been measured in electron volts, we can re-arrange for the effective dielectric function of the nanoplatlet:\n",
    "\\begin{equation}\n",
    "\\epsilon_m = \\sqrt{\\frac{m_h}{2m_e} \\cdot \\frac{27.211 eV}{E_{binding}}}\n",
    "\\end{equation}\n",
    "\n",
    "\n"
   ]
  },
  {
   "cell_type": "code",
   "execution_count": 11,
   "metadata": {
    "id": "5isPGQC67BrI"
   },
   "outputs": [],
   "source": [
    "import numpy as np\n",
    "import scipy.special as sc\n",
    "import math"
   ]
  },
  {
   "cell_type": "code",
   "execution_count": 12,
   "metadata": {},
   "outputs": [
    {
     "name": "stdout",
     "output_type": "stream",
     "text": [
      "Binding energy of 2D Hydrogen: 119.72840000000001\n"
     ]
    }
   ],
   "source": [
    "### E_n for the 2D excitonic system\n",
    "def En_2D_using_mu(n, redmass, epsilon_m):\n",
    "    return -1*redmass / (2 * epsilon_m**2 * (n - 0.5 )**2 )\n",
    "\n",
    "mu = 0.22\n",
    "eps_m = 10.\n",
    "\n",
    "print(\"Binding energy of 2D Hydrogen:\", -27.211 * 1000 *En_2D_using_mu(1, mu, eps_m))"
   ]
  },
  {
   "cell_type": "code",
   "execution_count": 13,
   "metadata": {
    "colab": {
     "base_uri": "https://localhost:8080/"
    },
    "id": "kiEXdwFvu3in",
    "outputId": "84930277-78d6-42a6-ce60-47a46d305797"
   },
   "outputs": [
    {
     "name": "stdout",
     "output_type": "stream",
     "text": [
      " Enter Binding Energy in eV\n",
      ".417\n",
      " Enter the hole mass in kilograms\n",
      "0.22*9e-31\n"
     ]
    },
    {
     "ename": "ValueError",
     "evalue": "could not convert string to float: '0.22*9e-31'",
     "output_type": "error",
     "traceback": [
      "\u001b[0;31m---------------------------------------------------------------------------\u001b[0m",
      "\u001b[0;31mValueError\u001b[0m                                Traceback (most recent call last)",
      "\u001b[0;32m<ipython-input-13-b17161ce695f>\u001b[0m in \u001b[0;36m<module>\u001b[0;34m\u001b[0m\n\u001b[1;32m      8\u001b[0m \u001b[0;34m\u001b[0m\u001b[0m\n\u001b[1;32m      9\u001b[0m \u001b[0mprint\u001b[0m\u001b[0;34m(\u001b[0m\u001b[0;34m\" Enter the hole mass in kilograms\"\u001b[0m\u001b[0;34m)\u001b[0m\u001b[0;34m\u001b[0m\u001b[0;34m\u001b[0m\u001b[0m\n\u001b[0;32m---> 10\u001b[0;31m \u001b[0mm_h\u001b[0m \u001b[0;34m=\u001b[0m \u001b[0mfloat\u001b[0m\u001b[0;34m(\u001b[0m\u001b[0minput\u001b[0m\u001b[0;34m(\u001b[0m\u001b[0;34m)\u001b[0m\u001b[0;34m)\u001b[0m\u001b[0;34m\u001b[0m\u001b[0;34m\u001b[0m\u001b[0m\n\u001b[0m\u001b[1;32m     11\u001b[0m \u001b[0;34m\u001b[0m\u001b[0m\n\u001b[1;32m     12\u001b[0m \u001b[0meps_2d\u001b[0m\u001b[0;34m,\u001b[0m \u001b[0meps_3d\u001b[0m \u001b[0;34m=\u001b[0m \u001b[0meffective_eps\u001b[0m\u001b[0;34m(\u001b[0m\u001b[0mEbin\u001b[0m\u001b[0;34m,\u001b[0m \u001b[0mm_h\u001b[0m\u001b[0;34m)\u001b[0m\u001b[0;34m\u001b[0m\u001b[0;34m\u001b[0m\u001b[0m\n",
      "\u001b[0;31mValueError\u001b[0m: could not convert string to float: '0.22*9e-31'"
     ]
    }
   ],
   "source": [
    "def effective_eps(E_bind, mass_hole):\n",
    "    eps_eff_2d = np.sqrt(2*mass_hole/9.310938e-31 * 27.211/E_bind)\n",
    "    eps_eff_3d = np.sqrt(mass_hole/(2*9.310938e-31) * 27.211/E_bind)\n",
    "    return eps_eff_2d, eps_eff_3d\n",
    "\n",
    "print(\" Enter Binding Energy in eV\")\n",
    "Ebin = float(input())\n",
    "\n",
    "print(\" Enter the hole mass in kilograms\")\n",
    "m_h = float(input())\n",
    "\n",
    "eps_2d, eps_3d = effective_eps(Ebin, m_h)\n",
    "print(\"Effective Epsilon for 2D system is \",eps_2d)\n",
    "print(\"Effective Epsilon for 3D system is \", eps_3d)\n"
   ]
  },
  {
   "cell_type": "markdown",
   "metadata": {
    "id": "AEJTRU4pUSAW"
   },
   "source": [
    "The 2D Hydrogen atom energy eigenfunctions can be written as follows [1](https://www.researchgate.net/publication/13384275_Analytic_solution_of_a_two-dimensional_hydrogen_atom_I_Nonrelativistic_theory)\n",
    "\\begin{equation}\n",
    "\\psi_{n,l,m_l}(r,\\phi) = R_{n,l}(r) \\Phi_{l,m_l}(\\phi),\n",
    "\\end{equation}\n",
    "where \n",
    "\\begin{equation}\n",
    "\\Phi_{l,m_l}(\\phi) = e^{i m_l \\phi},\n",
    "\\end{equation}\n",
    "and \n",
    "\\begin{equation}\n",
    "R_{n,l} = \\\\ \\frac{\\beta_n}{(2|l|)!}\\left(\\frac{(n + |l| - 1)!}{(2n-1)(n-|l|-1)!}\\right)^{1/2} \\left( \\beta_n r \\right)^{|l|} \\: _1 F_1(-n + |l| + 1, 2|l| + 1, \\beta_n r)\n",
    "\\end{equation}\n",
    "where \n",
    "\\begin{equation}\n",
    "\\beta_n = \\frac{2}{n-1/2} \\frac{\\mu e^2}{\\hbar^2}\n",
    "\\end{equation}\n",
    "and $_1F_1(a, b, c)$ denotes the confluent hypergeometric function.  We will define python functions to compute $\\psi_{n,l,m_l}$, assuming atomic units throughout!"
   ]
  },
  {
   "cell_type": "code",
   "execution_count": null,
   "metadata": {
    "id": "FtootxQ6UQLR"
   },
   "outputs": [],
   "source": [
    "def beta_n(n, mu):\n",
    "  ''' Compute beta term for a given value\n",
    "      of principle quantum number n and the reduced mass mu '''\n",
    "  return mu * 2/(n-0.5)\n",
    "\n",
    "def chf_args(n, l, mu, r):\n",
    "  ''' Compute the arguments to be passed to the confluent hypergeometric\n",
    "      function (_1F_1(a, b, c)) given the principle quantum number n, \n",
    "      angular momentum qn l, reduced mass mu, and radial coordinate value r '''\n",
    "  bn = beta_n(n, mu)\n",
    "  a = -n + np.abs(l) + 1\n",
    "  b = 2 * np.abs(l) + 1\n",
    "  c = bn * r\n",
    "  ### return arguments in a list\n",
    "  return [a, b, c]\n",
    "\n",
    "def phi_lm(ml, phi):\n",
    "  ''' Compute the angular part of the energy eigenfunction for a given\n",
    "      value of the z-component of angular momentum qn ml and angular\n",
    "      coordinate value phi '''\n",
    "  ci = 0+1j\n",
    "  return np.exp(ci * ml * phi)\n",
    "\n",
    "def norm(n, l, mu):\n",
    "  ''' compute the normalization constant given the value of reduced mass mu, \n",
    "      principle quantum number n, angular momentum quantum number l '''\n",
    "  bn = beta_n(n, mu)\n",
    "  t1 = bn/math.factorial(2*np.abs(l))\n",
    "  t2 = np.sqrt( math.factorial(n + np.abs(l) - 1)/((2*n-1)*math.factorial(n - np.abs(l) - 1) ))\n",
    "  return t1 * t2\n",
    "\n",
    "def R_nl(n, l, mu, r):\n",
    "  ''' Compute radial part given the quantum numbers n and l, \n",
    "      reduced mass mu, and radial coordinate r '''\n",
    "  ### normalization\n",
    "  N = norm(n, l, mu)\n",
    "  ### args for confluent hypergeometric function\n",
    "  arg = arg = chf_args(n, l, mu, r)\n",
    "  ### confluent hypergeometric function contribution\n",
    "  fr = sc.hyp1f1(arg[0], arg[1], arg[2])\n",
    "  ### beta term\n",
    "  bn = beta_n(n, mu)\n",
    "  ### now the whole thing!\n",
    "  return N * fr * np.power(bn*r, np.abs(l)) * np.exp(-bn * r / 2)\n",
    "\n",
    "\n",
    "def psi_nlm(mu, n, l, ml, r, phi):\n",
    "  ''' Computes the 2D hydrogen energy eigenfunctions\n",
    "      for a given reduced mass, quantum numbers n, l, and ml, \n",
    "      and value of the coordinates r and phi '''\n",
    "  ### angular part\n",
    "  phi = phi_lm(ml, phi)\n",
    "  ### radial part\n",
    "  Rnl = R_nl(n, l, mu, r)\n",
    "  ### the whole thing!\n",
    "  return phi * Rnl\n",
    "\n",
    "def E_n(n):\n",
    "  return -1/(2*(n-0.5)**2)"
   ]
  },
  {
   "cell_type": "markdown",
   "metadata": {
    "id": "17SlEPJ-gLwU"
   },
   "source": [
    "Let's plot some eigenfunctions and see how they compare to the explicit functions given from table 2.17 of Ref.[1](https://www.researchgate.net/publication/13384275_Analytic_solution_of_a_two-dimensional_hydrogen_atom_I_Nonrelativistic_theory)"
   ]
  },
  {
   "cell_type": "code",
   "execution_count": null,
   "metadata": {
    "colab": {
     "base_uri": "https://localhost:8080/",
     "height": 319
    },
    "id": "taGTbnVqdq3S",
    "outputId": "4bd8b814-1184-4ae9-c3cf-3e8b635ffdf9"
   },
   "outputs": [
    {
     "name": "stderr",
     "output_type": "stream",
     "text": [
      "/usr/local/lib/python3.7/dist-packages/numpy/core/_asarray.py:83: ComplexWarning: Casting complex values to real discards the imaginary part\n",
      "  return array(a, dtype, copy=False, order=order)\n"
     ]
    },
    {
     "data": {
      "image/png": "[encoded data removed]",
      "text/plain": [
       "<Figure size 432x288 with 1 Axes>"
      ]
     },
     "metadata": {
      "needs_background": "light",
      "tags": []
     },
     "output_type": "display_data"
    }
   ],
   "source": [
    "from matplotlib import pyplot as plt\n",
    "### make a grid of r values\n",
    "r = np.linspace(0,10,200)\n",
    "\n",
    "### hard-code l, ml, mu, and phi\n",
    "lval = 0\n",
    "mlval = 0\n",
    "mu = 1\n",
    "phi = 0\n",
    "\n",
    "### try 1s:\n",
    "## our function first\n",
    "psi_1s = psi_nlm(mu, 2, lval, mlval, r, phi)\n",
    "## explicit expression from Ref. 1\n",
    "psi_1_r1 = beta_n(2, mu) * np.exp( - beta_n(2, mu) * r / 2)\n",
    "\n",
    "plt.plot(r, psi_1s, 'red')\n",
    "plt.plot(r, psi_1_r1, 'b--')\n",
    "plt.show()"
   ]
  },
  {
   "cell_type": "code",
   "execution_count": null,
   "metadata": {
    "colab": {
     "base_uri": "https://localhost:8080/",
     "height": 319
    },
    "id": "8ovvMcmAhMSY",
    "outputId": "7c0f7c9e-9509-4757-b4f9-70d5bd061770"
   },
   "outputs": [
    {
     "name": "stderr",
     "output_type": "stream",
     "text": [
      "/usr/local/lib/python3.7/dist-packages/numpy/core/_asarray.py:83: ComplexWarning: Casting complex values to real discards the imaginary part\n",
      "  return array(a, dtype, copy=False, order=order)\n"
     ]
    },
    {
     "data": {
      "image/png": "[encoded data removed]",
      "text/plain": [
       "<Figure size 432x288 with 1 Axes>"
      ]
     },
     "metadata": {
      "needs_background": "light",
      "tags": []
     },
     "output_type": "display_data"
    }
   ],
   "source": [
    "### try 2p:\n",
    "## our function first\n",
    "psi_2s = psi_nlm(mu, 8, 0, 0, r, phi)\n",
    "## explicit expression from Ref. 1\n",
    "psi_2p_r1 = beta_n(2,mu)**2 / np.sqrt(6) * r * np.exp(-beta_n(2, mu) * r / 2)\n",
    "\n",
    "plt.plot(r, psi_1s*psi_2s, 'red')\n",
    "plt.plot(r, psi_2p_r1, 'b--')\n",
    "plt.show()"
   ]
  },
  {
   "cell_type": "markdown",
   "metadata": {
    "id": "nG17qOITQhHK"
   },
   "source": [
    "We can define the first-order correction to the ground-state wavefunction as\n",
    "\\begin{equation}\n",
    "\\psi_{1,0,0}^1 = \\sum_{n\\neq1, l, m_l} \\frac{\\langle \\psi_{n,l,m_l}^0 | \\hat{H}' | \\psi_{1,0,0}^0 \\rangle}{E_{1,0,0}^0 - E_{n,l,m_l}^0} \\psi_{n,l,m_l}^0,\n",
    "\\end{equation}\n",
    "where $\\psi_m^0$ are the ordinary 2D hydrogen energy eigenstates, $E_m^0$ are the ordinary 2D hydrogen energy eigenvalues, and $\\hat{H}'$ is the perturbation to the 2D hydrogen potential due to the effective dielectric function.\n",
    "We can write this perturbation as\n",
    "\\begin{equation}\n",
    "\\hat{H}' = \\hat{V}_{eff} - \\hat{V}_0\n",
    "\\end{equation}\n",
    "where \n",
    "\\begin{equation}\n",
    "\\hat{V}_{eff} = -\\frac{1}{\\epsilon_{eff} r}\n",
    "\\end{equation}\n",
    "and\n",
    "\\begin{equation}\n",
    "\\hat{V}_0 = -\\frac{1}{r}\n",
    "\\end{equation}\n",
    "so that we can define the perturbation as\n",
    "\\begin{equation}\n",
    "\\hat{H}' = \\frac{\\epsilon_{eff}-1}{\\epsilon_{eff} \\: r}.\n",
    "\\end{equation}\n",
    "Because the perturbation only involves the radial coordinate, the integrals in the perturbative expansion can be factored into radial and angular components:\n",
    "\\begin{equation}\n",
    "\\psi_{1,0,0}^1 = \\sum_{n\\neq1,l,m_l} \\frac{\\langle R_{n,l} | \\hat{H}' | R_{1,0} \\rangle}{E_{n,l,m_l}^0 - E_{1,0,0}^0} \\langle \\Phi_{l,m_l}| \\Phi_{0,0} \\rangle \\psi_{n,l,m_l}^0,\n",
    "\\end{equation}\n",
    "and because of the orthogonality of the angular components, this simplifies to\n",
    "\\begin{equation}\n",
    "\\psi_{1,0,0}^1 = 2\\pi \\sum_{n\\neq1} \\frac{\\langle R_{n,0} | \\hat{H}' | R_{1,0} \\rangle}{E_{n,0,0}^0 - E_{1,0,0}^0} \\psi_{n,0,0}^0.\n",
    "\\end{equation}"
   ]
  },
  {
   "cell_type": "code",
   "execution_count": null,
   "metadata": {
    "colab": {
     "base_uri": "https://localhost:8080/",
     "height": 34
    },
    "id": "TeHYYHnXQhk6",
    "outputId": "18630f18-5cf6-4dd2-a538-15502466beb6"
   },
   "outputs": [
    {
     "data": {
      "text/plain": [
       "0.0041962187919753775"
      ]
     },
     "execution_count": 6,
     "metadata": {
      "tags": []
     },
     "output_type": "execute_result"
    }
   ],
   "source": [
    "### Need to figure out how we are going to store the 2D wavefunctions!\n",
    "def bra_hp_ket(r, psi_a, psi_b, eps_eff):\n",
    "  ''' computes the <psi_a | H' | psi_b> terms for perturbation theory\n",
    "      where H' = V_c,eps_eff - V_c,eps_0 where \n",
    "      V_c,eps_0 denotes the coulomb potential in a vacuum and\n",
    "      V_c,eps_eff denotes the screened coulomb potential.  Integration is done\n",
    "      using rectangle rule for now... maybe good to do Gauss-Legendre or something fancier... '''\n",
    "  # differential elements\n",
    "  # dr\n",
    "  dr = r[1] - r[0]\n",
    "  ### the perturbation array!\n",
    "  Hp =  (eps_eff - 1)/eps_eff\n",
    "  ### Hp on ket\n",
    "  Hp_ket = Hp * psi_b\n",
    "  ### bra on Hp * ket\n",
    "  b_hp_k = np.conj(psi_a) * Hp_ket\n",
    "  ### now integrate!\n",
    "  som = 0.\n",
    "  for i in range(0,len(r)):\n",
    "    if (b_hp_k[i] * dr == b_hp_k[i] * dr):\n",
    "      som = som + b_hp_k[i] * dr\n",
    "  \n",
    "  ### return the integral <R | H' | R><Phi|Phi>\n",
    "  return np.real(som) \n",
    "\n",
    "\n",
    "bra = psi_nlm(mu, 13, 0, 0, r, phi)\n",
    "bra_hp_ket(r, psi_1s, bra, 1.2)\n",
    "  "
   ]
  },
  {
   "cell_type": "code",
   "execution_count": null,
   "metadata": {
    "colab": {
     "base_uri": "https://localhost:8080/",
     "height": 347
    },
    "id": "-Gd67wRuKYkV",
    "outputId": "cb622d33-b23f-4288-9a9c-07ef1efd1c80"
   },
   "outputs": [
    {
     "name": "stderr",
     "output_type": "stream",
     "text": [
      "/usr/local/lib/python3.6/dist-packages/numpy/core/_asarray.py:85: ComplexWarning: Casting complex values to real discards the imaginary part\n",
      "  return array(a, dtype, copy=False, order=order)\n",
      "/usr/local/lib/python3.6/dist-packages/numpy/core/_asarray.py:85: ComplexWarning: Casting complex values to real discards the imaginary part\n",
      "  return array(a, dtype, copy=False, order=order)\n"
     ]
    },
    {
     "data": {
      "image/png": "[encoded data removed]",
      "text/plain": [
       "<Figure size 432x288 with 1 Axes>"
      ]
     },
     "metadata": {
      "needs_background": "light",
      "tags": []
     },
     "output_type": "display_data"
    }
   ],
   "source": [
    "''' Do the perturbative expansion!'''\n",
    "E_1 = E_n(1)\n",
    "psi_pt1 = psi_1s\n",
    "for i in range(2,100):\n",
    "  bra = psi_nlm(mu, i, 0, 0, r, phi)\n",
    "  matrix = bra_hp_ket(r, psi_1s, bra, 4.0)\n",
    "  E_i = E_n(i)\n",
    "  coeff = matrix/(E_i - E_1)\n",
    "  psi_pt1 = psi_pt1 + coeff * bra\n",
    "\n",
    "### for comparison, compute the 3D hydrogen 1s wf\n",
    "psi_1s_3d = 2*np.exp(-r)\n",
    "\n",
    "### Compute probability densities\n",
    "p_of_r_3d = psi_1s_3d * psi_1s_3d * r * r \n",
    "p_of_r_2d = psi_1s * psi_1s * r \n",
    "p_of_r_2d_pt = psi_pt1 * psi_pt1 * r \n",
    "\n",
    "\n",
    "\n",
    "plt.plot(r, p_of_r_2d, 'red', label='2D H in Vacuum')\n",
    "plt.plot(r, p_of_r_2d_pt, 'b--', label='2D H in eps=4.0')\n",
    "plt.plot(r, p_of_r_3d, 'purple', label='3D H in Vacuum')\n",
    "plt.xlim(0,6)\n",
    "plt.xlabel(\"R (atomic units)\")\n",
    "plt.ylabel(\"Probability Density (atomic units)\")\n",
    "plt.legend()\n",
    "plt.show()\n",
    "\n"
   ]
  },
  {
   "cell_type": "code",
   "execution_count": null,
   "metadata": {
    "colab": {
     "base_uri": "https://localhost:8080/",
     "height": 68
    },
    "id": "QtGCYnxnZyd4",
    "outputId": "201f5895-90d0-478b-d5cd-a104469bf591"
   },
   "outputs": [
    {
     "name": "stdout",
     "output_type": "stream",
     "text": [
      "<r> for 3D 1s orbital 1.5000000130156865\n",
      "<r> for 2D 1s orbital in medium (0.734323494247856+0j)\n",
      "<r> for 2D 1s orbital in vacuum (0.4999997917903022+0j)\n"
     ]
    }
   ],
   "source": [
    "''' Compute the <r> expectation values for the perturbed wf and the psi_1,0,0\n",
    "    state of 2d and 3d hydrogen'''\n",
    "r_exp_3d = 0\n",
    "r_exp_1 = 0\n",
    "r_exp_2 = 0\n",
    "\n",
    "#plt.plot(r, p_of_r_2d, 'red')\n",
    "#plt.plot(r, p_of_r_2d_pt, 'b--')\n",
    "#plt.plot(r, p_of_r_3d, 'purple')\n",
    "#plt.xlim(0,2)\n",
    "dr = r[1]-r[0]\n",
    "for i in range(0,len(r)):\n",
    "  if p_of_r_3d[i] == p_of_r_3d[i]:\n",
    "    r_exp_3d = r_exp_3d + p_of_r_3d[i] * r[i] * dr\n",
    "  if p_of_r_2d_pt[i]==p_of_r_2d_pt[i]:\n",
    "    r_exp_1 = r_exp_1 + p_of_r_2d_pt[i] * r[i] * dr\n",
    "  if p_of_r_2d[i]==p_of_r_2d[i]:\n",
    "    r_exp_2 = r_exp_2 + p_of_r_2d[i] * r[i] * dr\n",
    "\n",
    "print(\"<r> for 3D 1s orbital\",r_exp_3d)\n",
    "print(\"<r> for 2D 1s orbital in medium\", r_exp_1)\n",
    "print(\"<r> for 2D 1s orbital in vacuum\", r_exp_2)\n"
   ]
  },
  {
   "cell_type": "code",
   "execution_count": null,
   "metadata": {
    "colab": {
     "base_uri": "https://localhost:8080/",
     "height": 605
    },
    "id": "X5X6sv7yYWmv",
    "outputId": "be51e3bc-7ba8-49f6-982d-7fa097b98ed1"
   },
   "outputs": [
    {
     "name": "stdout",
     "output_type": "stream",
     "text": [
      "1.0 (0.4999997917903022+0j)\n",
      "1.1578947368421053 (0.48994099554712894+0j)\n",
      "1.3157894736842106 (0.49603886862461616+0j)\n",
      "1.4736842105263157 (0.5091562219043677+0j)\n",
      "1.631578947368421 (0.5250717971828569+0j)\n",
      "1.7894736842105263 (0.5417567908732657+0j)\n",
      "1.9473684210526314 (0.5582242786291627+0j)\n",
      "2.1052631578947367 (0.5740053491713849+0j)\n",
      "2.263157894736842 (0.5888963839600702+0j)\n",
      "2.4210526315789473 (0.6028315705327011+0j)\n",
      "2.5789473684210527 (0.6158163792541768+0j)\n",
      "2.7368421052631575 (0.6278920059054827+0j)\n",
      "2.894736842105263 (0.6391160910362459+0j)\n",
      "3.052631578947368 (0.6495522297377834+0j)\n",
      "3.2105263157894735 (0.6592643268820895+0j)\n",
      "3.3684210526315788 (0.6683136606092935+0j)\n",
      "3.526315789473684 (0.676757469685926+0j)\n",
      "3.6842105263157894 (0.6846483965350306+0j)\n",
      "3.8421052631578947 (0.6920344039520077+0j)\n",
      "4.0 (0.6989589453490168+0j)\n"
     ]
    },
    {
     "data": {
      "image/png": "[encoded data removed]",
      "text/plain": [
       "<Figure size 432x288 with 1 Axes>"
      ]
     },
     "metadata": {
      "needs_background": "light",
      "tags": []
     },
     "output_type": "display_data"
    }
   ],
   "source": [
    "r_vs_eps = np.zeros(20)\n",
    "eps_list = np.linspace(1, 4, 20)\n",
    "for j in range(0,len(eps_list)):\n",
    "  psi_pt1 = psi_1s\n",
    "  for i in range(2,100):\n",
    "    bra = psi_nlm(mu, i, 0, 0, r, phi)\n",
    "    matrix = bra_hp_ket(r, psi_1s, bra, eps_list[j])\n",
    "    E_i = E_n(i)\n",
    "    coeff = matrix/(E_i - E_1)\n",
    "    psi_pt1 = psi_pt1 + coeff * bra\n",
    "    p_of_r_2d_pt = psi_pt1 * psi_pt1 * r\n",
    "    r_exp_2d = 0 \n",
    "    for k in range(0,len(r)):\n",
    "      if p_of_r_2d_pt[k] == p_of_r_2d_pt[k]:\n",
    "        r_exp_2d = r_exp_2d + p_of_r_2d_pt[k] * r[k] * dr\n",
    "  r_vs_eps[j] = np.real(r_exp_2d)\n",
    "  print(eps_list[j], r_exp_2d)\n",
    "\n",
    "\n",
    "\n",
    "\n"
   ]
  },
  {
   "cell_type": "code",
   "execution_count": null,
   "metadata": {
    "colab": {
     "base_uri": "https://localhost:8080/",
     "height": 279
    },
    "id": "_PpHX-dqbOgi",
    "outputId": "08a829ca-64c8-4912-8849-499169a88f89"
   },
   "outputs": [
    {
     "data": {
      "image/png": "[encoded data removed]",
      "text/plain": [
       "<Figure size 432x288 with 1 Axes>"
      ]
     },
     "metadata": {
      "needs_background": "light",
      "tags": []
     },
     "output_type": "display_data"
    }
   ],
   "source": [
    "plt.plot(eps_list, r_vs_eps, 'r*-', label=\"<r>\")\n",
    "plt.xlabel(\"Effective Epsilon\")\n",
    "plt.ylabel(\"<r> (atomic units) \")\n",
    "plt.show()"
   ]
  }
 ],
 "metadata": {
  "colab": {
   "collapsed_sections": [],
   "name": "Exciton.ipynb",
   "provenance": []
  },
  "kernelspec": {
   "display_name": "Python 3",
   "language": "python",
   "name": "python3"
  },
  "language_info": {
   "codemirror_mode": {
    "name": "ipython",
    "version": 3
   },
   "file_extension": ".py",
   "mimetype": "text/x-python",
   "name": "python",
   "nbconvert_exporter": "python",
   "pygments_lexer": "ipython3",
   "version": "3.8.5"
  }
 },
 "nbformat": 4,
 "nbformat_minor": 1
}
