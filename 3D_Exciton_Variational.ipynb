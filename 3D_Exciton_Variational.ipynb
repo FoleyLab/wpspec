{
 "cells": [
  {
   "cell_type": "markdown",
   "metadata": {
    "id": "Ulx7J6F8zNfP"
   },
   "source": [
    "### Linear Variational Approach\n",
    "\n",
    "We assume that within the nanoplatlet and in the solvent, the exciton experiences a coulomb potential that is screened by the dielectric constant of the nanoplatlet and solvent, respectively.  In the coordinate system of the exciton that has thickness $d$ along the $z$ axis, the columb potential can be written as\n",
    "\n",
    "$$ V_{npl}(r) = -\\frac{e^2}{4\\pi \\epsilon_{npl}\\epsilon_0 r} \\; \\; {\\rm when} \\; |r \\: {\\rm cos}(\\theta)| \\leq \\frac{d}{2} $$\n",
    "\n",
    "while in the solvent, the potential has the same coulomb form but is screened by the dielectric of the solvent rather than the nanoplatlet:\n",
    "\n",
    "$$ V_{sol}(r) = -\\frac{e^2}{4\\pi \\epsilon_{sol}\\epsilon_0 r} \\; \\; {\\rm when} \\; |r \\: {\\rm cos}(\\theta)| > \\frac{d}{2}.$$\n",
    "\n",
    "\n",
    "So we can write the total Hamiltonian as \n",
    "\n",
    "\\begin{align} \n",
    "\\hat{H} &= -\\frac{\\hbar^2}{2\\mu} \\nabla^2 + V_{npl}(r) + \\frac{e^2\\left(\\epsilon_{sol}-\\epsilon_{npl} \\right)}{4\\pi \\epsilon_{sol}\\epsilon_{npl}\\epsilon_0 r} H(|r \\: {\\rm cos}(\\theta)|-\\frac{d}{2}) \\\\\n",
    "&= \\hat{H}_0 + V'(r,\\theta)\n",
    "\\end{align}\n",
    "where $\\mu = \\frac{m_e \\cdot m_h}{m_e + m_h}$ and is taken to be 0.22 $m_e$ in this work.    \n",
    "\n",
    "We can expand the ground-state wavefunction as a linear combination of the hydrogenic energy eigenstates\n",
    "for the bulk npl system:\n",
    "\n",
    "\\begin{equation}\n",
    "\\psi_g(r,\\theta,\\phi) = \\sum_{n,l} c_{n,l} \\psi_{n,l,0}(r, \\theta, \\phi),\n",
    "\\end{equation}\n",
    "\n",
    "where the coefficients satisfy\n",
    "$$ {\\bf H} {\\bf c} = E {\\bf c}, $$\n",
    "with elements of ${\\bf H}$ given by\n",
    "$$ H_{n,l; n',l'} = \\langle \\psi_{n,l,0} | \\hat{H} | \\psi_{n',l',0} \\rangle \\equiv E_{n'} \\delta_{n,n'} \\delta_{l,l'} +  \\langle \\psi_{n,l,0} |V' | \\psi_{n',l',0} \\rangle. $$\n",
    "\n",
    "Since we know the solution for the bulk npl system, we know\n",
    "$$ \\hat{H}_0 \\psi_{n,l,m} = E_n \\psi_{n,l,m}, $$\n",
    "so we just need to be able to compute $ \\langle \\psi_{n,l,0} |V' | \\psi_{n',l',0} \\rangle $ numerically (slightly generalized version of what we needed to do in the perturbation theory approach), and then diagonalize the resulting\n",
    "matrix.  Most likely the matrix need not be that big... perhaps all $n, l$ up to principle quantum number 5 or so... \n",
    "We can test for convergence."
   ]
  },
  {
   "cell_type": "code",
   "execution_count": 2,
   "metadata": {
    "colab": {
     "base_uri": "https://localhost:8080/"
    },
    "id": "5isPGQC67BrI",
    "outputId": "0285aabf-b57c-4ec9-8197-5b4c673e5165"
   },
   "outputs": [
    {
     "name": "stdout",
     "output_type": "stream",
     "text": [
      " bohr radius in atomic units: 45.45454545454545\n",
      " bohr radius in nm: 2.405351131818084\n",
      " E1 from mu: -29.9321\n",
      " E1 from a0: -29.9321\n",
      " Difference: 0.0\n",
      " Nanoplatlet thickness in nanometers 0.7\n",
      " Nanoplatlet thickness in atomic units 13.228081920052999\n"
     ]
    }
   ],
   "source": [
    "### Reworked code some and now just putting everything in this top block\n",
    "### to compute 1st and 2nd order corrections\n",
    "import numpy as np\n",
    "from matplotlib import pyplot as plt\n",
    "from scipy.special import genlaguerre\n",
    "from scipy.special import sph_harm\n",
    "from scipy.interpolate import UnivariateSpline\n",
    "from numpy import linalg as LA\n",
    "from scipy.sparse.linalg import eigs\n",
    "import math\n",
    "\n",
    "''' Define various constants here! '''\n",
    "###  !!!! npl thickness in nanometers, see page 2 of manuscript\n",
    "#### 2 mL d_nm = 0.7\n",
    "#### 5 mL = 1.9 nm\n",
    "d_nm = 0.7\n",
    "\n",
    "# conversion from nm to atomic units\n",
    "nm_to_au = 18.89725988579\n",
    "\n",
    "# d in atomic units\n",
    "d = d_nm * nm_to_au\n",
    "\n",
    "# electron-hole reduced mass in atomic units\n",
    "mu = 0.22\n",
    "# relative permittivity of NPL... see page 10 of the manuscript\n",
    "eps_m = 10\n",
    "# relative permittivity of medium.... see page 10 of the manuscript\n",
    "eps_sol = 2\n",
    "# k = 4*pi*epsilon_0 in atomic units\n",
    "k = 1\n",
    "# hbar in atomic units\n",
    "hbar = 1\n",
    "# electron charge in atomic units\n",
    "ec = 1\n",
    "\n",
    "''' It is now unclear to me if we can hard-code the bohr radius and\n",
    "    still assume that psi_nlm(r,theta,phi; a0) is an eigenfunction of H_0\n",
    "    so I'm reverting to computing a0 from \\mu and \\epsilon for now \n",
    "# bohr radius in atomic units using Azmain's value\n",
    "#a0b = 0.82*18.89725988579 \n",
    "\n",
    "# zeroth order ground state approach B - using Azmain's value of a0, which is a0b\n",
    "#E_z = -ec**2/(8*np.pi*eps_m * a0b) '''\n",
    "\n",
    "# a0 = 4*pi*epsilon_0 * epsilon_m * hbar^2 / (mu * e^2)\n",
    "# in atomic units, everything is 1 except epsilon_m / mu \n",
    "a0b = eps_m / mu\n",
    "\n",
    "# take the two different approaches for computing the ground-state energy\n",
    "# (1) E_n = -mu * e^4/(n^2 * 2 * (4 pi epsilon_0)^2 epsilon_m^2 \\hbar^2)\n",
    "#     where in atomic units, everything is 1 except\n",
    "#     E_n = -mu / (n^2 * 2 * epsilon_m^2 )\n",
    "# \n",
    "# (2) E_n = -e^2 / (n^2 * 2 * (4 * pi * epsilon_0) * epsilon_m * a0)\n",
    "#     where in atomic units, everything is 1 except\n",
    "#     E_n = -1/(n^2 * 2 * epsilon_m * a0)\n",
    "\n",
    "def En_using_mu(n, redmass, epsilon_m):\n",
    "    return -redmass / (n**2 * 2 * epsilon_m**2)\n",
    "\n",
    "def En_using_a(n, a0, epsilon_m):\n",
    "    return -1/(n**2 * 2 * epsilon_m * a0)\n",
    "\n",
    "# get Eg using approach (1)\n",
    "E1_from_mu = En_using_mu(1, mu, eps_m)\n",
    "# get Eg using approach (2)\n",
    "E1_from_a0 = En_using_a(1, a0b, eps_m)\n",
    "\n",
    "print(\" bohr radius in atomic units:\",a0b)\n",
    "print(\" bohr radius in nm:\",a0b/nm_to_au)\n",
    "print(\" E1 from mu:\", E1_from_mu * 27.211 * 1000)\n",
    "print(\" E1 from a0:\", E1_from_a0 * 27.211 * 1000)\n",
    "print(\" Difference:\",(E1_from_mu-E1_from_a0)*27.211*1000)\n",
    "print(\" Nanoplatlet thickness in nanometers\", d_nm)\n",
    "print(\" Nanoplatlet thickness in atomic units\", d)\n",
    "\n"
   ]
  },
  {
   "cell_type": "code",
   "execution_count": 3,
   "metadata": {
    "id": "wvuGCv18oeul"
   },
   "outputs": [
    {
     "data": {
      "image/png": "[encoded data removed]",
      "text/plain": [
       "<Figure size 432x288 with 1 Axes>"
      ]
     },
     "metadata": {
      "needs_background": "light"
     },
     "output_type": "display_data"
    }
   ],
   "source": [
    "''' Set up grids for the potential and the wavefunction '''\n",
    "# radius grid in atomic units\n",
    "r_perturb = np.linspace(d/2, 5000, 50000)\n",
    "r_array = np.linspace(1e-9, 5000, 50000)\n",
    "# theta grid\n",
    "th = np.linspace(0, np.pi, 100)\n",
    "# phi grid\n",
    "phi = np.linspace(0, 2*np.pi, 100)\n",
    "\n",
    "# perturbing potential\n",
    "V_perturb = ec**2 * (eps_sol - eps_m)/(k*eps_sol*eps_m*r_perturb)\n",
    "# potential in nanoplatlet\n",
    "Vnp = -ec**2/(k * eps_m * r_perturb)\n",
    "# potential in solvent \n",
    "Vsol = -ec**2/(k*eps_sol * r_perturb)\n",
    "\n",
    "\n",
    "plt.plot(r_perturb, Vnp, 'red', label=\"Nanoplatlet\")\n",
    "plt.plot(r_perturb, Vsol, \"green\", label=\"Solvent\")\n",
    "plt.plot(r_perturb, V_perturb, \"blue\", label=\"Perturbation\")\n",
    "plt.xlim(d/2, 500)\n",
    "plt.legend()\n",
    "plt.show()"
   ]
  },
  {
   "cell_type": "code",
   "execution_count": 4,
   "metadata": {
    "id": "8EaaiPg-TchB"
   },
   "outputs": [],
   "source": [
    "# To get perturbative corrections, we need to be able to generate\n",
    "# 0th-order eigenfunctions and eigenenergies!  \n",
    "\n",
    "# 0th order eigenfunction radial part\n",
    "def R(n,l,r, a0):\n",
    "    '''Returns the radial wavefunction for each value of r where n is the principle quantum number \n",
    "         and l is the angular momentum quantum number.'''\n",
    "    norm = np.sqrt( (2/(n*a0))**3 * math.factorial(n - l - 1)/(math.factorial(n+l) * 2 * n))\n",
    "    t1 = np.exp(-r/(n*a0))\n",
    "    t2 = (2*r/(n*a0))**l\n",
    "    #Generates an associated laguerre polynomial as a scipy.special.orthogonal.orthopoly1\n",
    "    Lag = genlaguerre(n-l-1, 2*l+1)\n",
    "    t3 = Lag(2*r/(n*a0))\n",
    "    return norm * t1 * t2 * t3\n",
    "\n",
    "def test_norm(n, l, r, theta, a0):\n",
    "    # bra state\n",
    "    R_bra = R(n, l, r, a0)\n",
    "    Y_bra = sph_harm(0, l, 0, theta)\n",
    "    \n",
    "    R_integrand = np.conj(R_bra) * R_bra * r * r\n",
    "    Y_integrand = np.real(np.conj(Y_bra) * Y_bra * np.sin(theta))\n",
    "    \n",
    "    R_integral = np.trapz(R_integrand, r)\n",
    "    Y_integral = np.trapz(Y_integrand, theta)\n",
    "    return 2*np.pi*R_integral*Y_integral\n",
    "\n",
    "# return matrix element of Hamiltonian for linear variational method\n",
    "# there are two terms contributing to <\\psi_n,l,m | H | \\psi_n',l',m'>:\n",
    "# = <\\psi_n,l,m | H_0 | \\psi_n',l',m'> + <\\psi_n,l,m | Vp | \\psi_n',l',m'>\n",
    "# = E_n' * delta_{n,n'} * delta_{l,l'} * delta_{m, m'} + <\\psi_n,l,m | Vp | \\psi_n',l',m'>\n",
    "def H_ij(bra_n, bra_l, ket_n, ket_l, Vp, r, theta, a0, npl_thickness, epsilon_m):\n",
    "    ''' We can factor the integral over phi from the integral over theta and r...\n",
    "        plus integral over theta and r just becomes integral over r weighted by\n",
    "        the slices of theta that extend outslide the platlet since we cannot couple\n",
    "        m != 1 states to the psi_100 state through this potential, so the\n",
    "        0th-order eigenfunctions are all constants along \\theta!!!! '''\n",
    "    \n",
    "    Ej = 0\n",
    "    # Get easy part if bra and ket are the same!\n",
    "    if (bra_n==ket_n and bra_l == ket_l):\n",
    "        #Ej = En_using_mu(ket_n, mu, eps_m)\n",
    "        Ej = En_using_a(ket_n, a0, epsilon_m)\n",
    "    \n",
    "    ### get 0th-order ket terms\n",
    "    R_bra = R(bra_n, bra_l, r, a0)\n",
    "    Y_bra = sph_harm(0, bra_l, 0, theta)\n",
    "    \n",
    "    ### get 0th-order bra terms\n",
    "    R_ket = R(ket_n, ket_l, r, a0)\n",
    "    Y_ket = sph_harm(0, ket_l, 0, theta)\n",
    "    \n",
    "    #plt.plot(theta, np.conj(Y_bra)*Y_ket * np.sin(theta) , 'green')\n",
    "    #plt.show()\n",
    "    \n",
    "    ### compute integrand over theta\n",
    "    Y_integrand = np.real(np.conj(Y_bra) * Y_ket * np.sin(theta))\n",
    "    ### fit spline to integrand over theta\n",
    "    Y_spline = UnivariateSpline(theta, Y_integrand)\n",
    "    fac_phi = 2*np.pi\n",
    "    \n",
    "    dE = 0\n",
    "    dr = r[1]-r[0]\n",
    "    for i in range(0,len(r)):\n",
    "        th_max = np.arccos(npl_thickness/(2*r[i]))\n",
    "        fac_theta_up = Y_spline.integral(0, th_max)\n",
    "        fac_theta_down = Y_spline.integral(np.pi-th_max, np.pi)\n",
    "        fac_theta = fac_theta_up + fac_theta_down\n",
    "        dE += R_bra[i] * R_ket[i] * r[i]**2 * Vp[i] * dr * fac_theta\n",
    "        \n",
    "    return Ej + fac_phi * dE\n"
   ]
  },
  {
   "cell_type": "code",
   "execution_count": 5,
   "metadata": {},
   "outputs": [
    {
     "name": "stdout",
     "output_type": "stream",
     "text": [
      "[(1, 0), (2, 0), (2, 1), (3, 0), (3, 1), (3, 2)]\n",
      "6\n"
     ]
    }
   ],
   "source": [
    "# Build the possible quantum numbers n and l into a list (m is always zero!)\n",
    "# figure out the size of the Hamiltonian matrix for all psi_n,l,0 basis states up to n_max:\n",
    "qn = []\n",
    "n_max = 4\n",
    "for n in range(n_max):\n",
    "    for l in range(0, n):\n",
    "        qn.append((n, l))\n",
    "        \n",
    "print(qn)\n",
    "print(len(qn))\n",
    "dim = len(qn)\n",
    "Hmat = np.zeros((dim, dim))"
   ]
  },
  {
   "cell_type": "code",
   "execution_count": 6,
   "metadata": {
    "id": "jmTeiWtANKXr"
   },
   "outputs": [],
   "source": [
    "# Form matrix elements of shifted CIS Hamiltonian\n",
    "for i, bra_qn in enumerate(qn):\n",
    "    bn, bl = bra_qn\n",
    "    for j, ket_qn in enumerate(qn):\n",
    "        kn, kl = ket_qn\n",
    "        Hmat[i, j] = H_ij(bn, bl, kn, kl, V_perturb, r_perturb, th, a0b, d, eps_m)\n",
    "\n",
    "            \n",
    "### If you want to see the Hamiltonian matrix, uncomment\n",
    "#print(Hmat)"
   ]
  },
  {
   "cell_type": "code",
   "execution_count": 7,
   "metadata": {
    "colab": {
     "base_uri": "https://localhost:8080/"
    },
    "id": "VC2qjimFqnvb",
    "outputId": "d2c0c646-3ad8-4672-e699-9c00cc0f88f0"
   },
   "outputs": [
    {
     "name": "stdout",
     "output_type": "stream",
     "text": [
      "  Variational Binding Energy in meV is: 218.18577286459538\n"
     ]
    }
   ],
   "source": [
    "### Diagonalize Hmat and print eigenvalues!\n",
    "vals, vecs = LA.eigh(Hmat)\n",
    "print(\"  Variational Binding Energy in meV is:\",-1*vals[0]*27.211*1000)\n"
   ]
  },
  {
   "cell_type": "code",
   "execution_count": 8,
   "metadata": {
    "colab": {
     "base_uri": "https://localhost:8080/",
     "height": 1000
    },
    "id": "dJSEWy5yqWVK",
    "outputId": "930666e1-e393-4431-a607-b3cea742b8e5"
   },
   "outputs": [
    {
     "name": "stdout",
     "output_type": "stream",
     "text": [
      " Note <r> for R_10^{(0)} should be 3/2 * a0 or 68.18181818181819 atomic units\n",
      " <r> for 0th order: 68.18181818196018\n",
      " <r> for variational 66.30945083076392\n"
     ]
    },
    {
     "data": {
      "image/png": "[encoded data removed]",
      "text/plain": [
       "<Figure size 432x288 with 1 Axes>"
      ]
     },
     "metadata": {
      "needs_background": "light"
     },
     "output_type": "display_data"
    }
   ],
   "source": [
    "R_zero_order = R(1, 0, r_array, a0b)\n",
    "R_variational = np.zeros_like(R_zero_order)\n",
    "\n",
    "for i, bra_qn in enumerate(qn):\n",
    "    bn, bl = bra_qn\n",
    "    R_variational += vecs[i,0] * R(bn, bl, r_array, a0b)\n",
    "\n",
    "Norm_z0 = np.trapz(R_zero_order**2 * r_array**2, r_array)\n",
    "Norm_var = np.trapz(R_variational**2 * r_array**2, r_array)\n",
    "\n",
    "r_num_z0 = np.trapz(R_zero_order**2 * r_array**3, r_array)\n",
    "r_num_var = np.trapz(R_variational**2 * r_array**3, r_array)\n",
    "\n",
    "r_expt_z0 = r_num_z0 / Norm_z0\n",
    "\n",
    "r_expt_var = r_num_var / Norm_var\n",
    "\n",
    "print(\" Note <r> for R_10^{(0)} should be 3/2 * a0 or\", a0b*3/2,\"atomic units\")\n",
    "print(\" <r> for 0th order:\", r_expt_z0)\n",
    "print(\" <r> for variational\", r_expt_var)\n",
    "\n",
    "\n",
    "#R_zero_order *= (1/Norm_z0)\n",
    "#R_first_order *= (1/Norm_f0)\n",
    "plt.plot(r_array, R_zero_order**2*r_array**2, 'red')\n",
    "plt.plot(r_array, R_variational**2*r_array**2, 'blue')\n",
    "plt.xlim(0, 500)\n",
    "plt.show()"
   ]
  }
 ],
 "metadata": {
  "colab": {
   "collapsed_sections": [],
   "name": "3D_Exciton_April_1_2021.ipynb",
   "provenance": []
  },
  "kernelspec": {
   "display_name": "Python 3",
   "language": "python",
   "name": "python3"
  },
  "language_info": {
   "codemirror_mode": {
    "name": "ipython",
    "version": 3
   },
   "file_extension": ".py",
   "mimetype": "text/x-python",
   "name": "python",
   "nbconvert_exporter": "python",
   "pygments_lexer": "ipython3",
   "version": "3.8.5"
  }
 },
 "nbformat": 4,
 "nbformat_minor": 1
}
