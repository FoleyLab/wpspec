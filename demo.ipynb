{
 "cells": [
  {
   "cell_type": "code",
   "execution_count": 1,
   "metadata": {},
   "outputs": [
    {
     "data": {
      "image/png": "[encoded data removed]",
      "text/plain": [
       "<Figure size 432x288 with 1 Axes>"
      ]
     },
     "metadata": {
      "needs_background": "light"
     },
     "output_type": "display_data"
    }
   ],
   "source": [
    "from wpspec import Quantum, harmonic, pib\n",
    "from matplotlib import pyplot as plt\n",
    "import numpy as np\n",
    "from matplotlib.animation import FuncAnimation\n",
    "from matplotlib import animation, rc\n",
    "from IPython.display import HTML\n",
    "\n",
    "params = {'box_length': 4, 'v_offset': 0, 'grid_points': 500, 'wfc_offset': 0, 'system': 'pib'}\n",
    "\n",
    "wf = Quantum(params)\n",
    "#print(wf.x)\n",
    "#print(wf.Psi)\n",
    "\n",
    "wf.dt = 0.01\n",
    "D = 1\n",
    "a = 1.5\n",
    "re = 0\n",
    "#### Morse potential \n",
    "wf.V = D*(1 - np.exp(-a*(wf.x - re)))**2\n",
    "#### wf.build_operator()\n",
    "#plt.plot(wf.x,  wf.Psi, 'blue', label='analytic')\n",
    "#plt.plot(wf.x,  wf.V, 'red', label='Potential')\n",
    "#plt.plot(wf.x, T_Psi, 'r--', label='Derivative')\n",
    "#plt.ylim(-1,2)\n",
    "def init():\n",
    "    ax.set_xlim(0, 2*np.pi) \n",
    "    ax.set_ylim(-1, 1) \n",
    "    return ln,\n",
    "    \n",
    "def update(frame): \n",
    "    xdata.append(frame) \n",
    "    ydata.append(np.sin(frame)) \n",
    "    ln.set_data(xdata, ydata) \n",
    "    return ln,\n",
    "    \n",
    "\n",
    "fig, ax = plt.subplots() \n",
    "xdata, ydata = [], []\n",
    "ln, = plt.plot([], [], 'ro') \n",
    "ani = FuncAnimation(fig, update, frames=np.linspace(0, 2*np.pi, 128),init_func=init, blit=True) \n",
    "rc('animation', html='jshtml') \n",
    "ani\n",
    "plt.show()\n"
   ]
  },
  {
   "cell_type": "code",
   "execution_count": 2,
   "metadata": {},
   "outputs": [
    {
     "data": {
      "image/png": "[encoded data removed]",
      "text/plain": [
       "<Figure size 432x288 with 1 Axes>"
      ]
     },
     "metadata": {
      "needs_background": "light"
     },
     "output_type": "display_data"
    }
   ],
   "source": [
    "pi = pib(params)\n",
    "pi.Psi = np.sqrt(1/2) * pi.eigenfunction(1) + np.sqrt(1/2) * pi.eigenfunction(2)\n",
    "plt.plot(pi.x, pi.Psi)\n",
    "\n",
    "pi.expand_pib()\n"
   ]
  },
  {
   "cell_type": "code",
   "execution_count": 3,
   "metadata": {},
   "outputs": [
    {
     "name": "stdout",
     "output_type": "stream",
     "text": [
      "(1.121924764270406+0j)\n"
     ]
    },
    {
     "name": "stderr",
     "output_type": "stream",
     "text": [
      "/opt/anaconda3/lib/python3.8/site-packages/numpy/core/_asarray.py:83: ComplexWarning: Casting complex values to real discards the imaginary part\n",
      "  return array(a, dtype, copy=False, order=order)\n"
     ]
    },
    {
     "data": {
      "image/png": "[encoded data removed]",
      "text/plain": [
       "<Figure size 432x288 with 1 Axes>"
      ]
     },
     "metadata": {
      "needs_background": "light"
     },
     "output_type": "display_data"
    }
   ],
   "source": [
    "wf.finite_difference_T_matrix()\n",
    "wf.finite_difference_V_matrix()\n",
    "wf.finite_difference_H_matrix()\n",
    "\n",
    "\n",
    "from scipy.sparse.linalg import eigs\n",
    "\n",
    "vals, vecs = eigs(wf.H_matrix, k=5,  which='SM')\n",
    "print(vals[0])\n",
    "\n",
    "plt.plot(wf.x, vecs[:,2]**2, 'red')\n",
    "plt.plot(wf.x, wf.V, 'b--')\n",
    "#plt.ylim(0,0.005)\n",
    "plt.show()"
   ]
  },
  {
   "cell_type": "code",
   "execution_count": null,
   "metadata": {},
   "outputs": [],
   "source": [
    "\n",
    "from matplotlib import animation, rc\n",
    "from IPython.display import HTML\n",
    "\n",
    "# First set up the figure, the axis, and the plot element we want to animate\n",
    "fig, ax = plt.subplots()\n",
    "plt.close()\n",
    "\n",
    "\n",
    "### parameters for plot\n",
    "ax.set_xlim((-wf.L, wf.L))\n",
    "ax.set_ylim((-1, 2))\n",
    "\n",
    "line, = ax.plot([], [], lw=2)\n",
    "line1, = ax.plot([], [], lw=2)\n",
    "\n",
    "# initialization function: plot the background of each frame\n",
    "def init():\n",
    "    line.set_data([], [])\n",
    "    line1.set_data([], [])\n",
    "    return (line, line1,)"
   ]
  },
  {
   "cell_type": "code",
   "execution_count": null,
   "metadata": {},
   "outputs": [],
   "source": [
    "N_time = 300\n",
    "\n",
    "# animation function. This is called sequentially  \n",
    "def animate(i):\n",
    "    \n",
    "    line.set_data(wf.x, wf.Psi)\n",
    "    line1.set_data(wf.x, wf.V)\n",
    "    wf.split_op()\n",
    "    return (line, line1,)\n",
    "  \n",
    "anim = animation.FuncAnimation(fig, animate, init_func=init,\n",
    "                             frames=N_time, interval=100, blit=True)\n",
    "\n",
    "# Note: below is the part which makes it work on Colab\n",
    "rc('animation', html='jshtml')\n",
    "anim"
   ]
  },
  {
   "cell_type": "code",
   "execution_count": null,
   "metadata": {},
   "outputs": [],
   "source": []
  },
  {
   "cell_type": "code",
   "execution_count": null,
   "metadata": {},
   "outputs": [],
   "source": []
  }
 ],
 "metadata": {
  "kernelspec": {
   "display_name": "Python 3",
   "language": "python",
   "name": "python3"
  },
  "language_info": {
   "codemirror_mode": {
    "name": "ipython",
    "version": 3
   },
   "file_extension": ".py",
   "mimetype": "text/x-python",
   "name": "python",
   "nbconvert_exporter": "python",
   "pygments_lexer": "ipython3",
   "version": "3.8.5"
  }
 },
 "nbformat": 4,
 "nbformat_minor": 4
}
