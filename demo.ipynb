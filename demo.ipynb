{
 "cells": [
  {
   "cell_type": "code",
   "execution_count": 1,
   "metadata": {},
   "outputs": [],
   "source": [
    "from wpspec import Quantum, harmonic, pib\n",
    "from matplotlib import pyplot as plt\n",
    "import numpy as np\n",
    "\n",
    "\n",
    "params = {'box_length': 4, 'v_offset': 0, 'grid_points': 500, 'wfc_offset': 0, 'system': 'pib'}\n",
    "\n",
    "wf = Quantum(params)\n",
    "#print(wf.x)\n",
    "#print(wf.Psi)\n",
    "\n",
    "wf.dt = 0.01\n",
    "D = 1\n",
    "a = 1.5\n",
    "re = 0\n",
    "#### Morse potential \n",
    "wf.V = D*(1 - np.exp(-a*(wf.x - re)))**2\n",
    "#### wf.build_operator()\n",
    "#plt.plot(wf.x,  wf.Psi, 'blue', label='analytic')\n",
    "#plt.plot(wf.x,  wf.V, 'red', label='Potential')\n",
    "#plt.plot(wf.x, T_Psi, 'r--', label='Derivative')\n",
    "#plt.ylim(-1,2)\n",
    "#plt.show()\n"
   ]
  },
  {
   "cell_type": "code",
   "execution_count": 2,
   "metadata": {},
   "outputs": [
    {
     "name": "stdout",
     "output_type": "stream",
     "text": [
      "[ 7.07106781e-01  7.07106781e-01 -6.50652064e-17 -5.33549230e-17\n",
      " -2.40193133e-17  3.94556417e-17 -1.03973294e-17 -4.36428432e-17\n",
      " -2.89689503e-17 -5.07209682e-17  5.54838344e-17  4.52571821e-17\n",
      " -3.48073367e-17 -7.17813836e-17  1.64365473e-16 -1.86861821e-17\n",
      " -8.99023830e-17  1.28846417e-16 -1.10082096e-16  1.54473399e-17\n",
      " -9.08116728e-17  1.17516504e-16  3.88318020e-17 -1.50542742e-16\n",
      "  2.28216510e-16  8.58997288e-17 -2.06272851e-16 -5.67025031e-17\n",
      "  1.56634603e-16  4.50176836e-17 -5.25012197e-17  3.92760707e-17\n",
      "  2.38048869e-16 -4.67133165e-16 -5.13963499e-16 -2.32629129e-17\n",
      "  3.45302298e-16  4.90962319e-16 -9.56808417e-17 -4.93472925e-16\n",
      " -2.77726857e-16  1.66314919e-17  4.69313851e-16  7.28448335e-17\n",
      " -1.28272975e-16 -2.38407587e-16  2.44389334e-16 -6.61185448e-17\n",
      " -8.43610934e-17  7.38943073e-17  1.87119742e-16  3.74117512e-17\n",
      " -6.85495294e-17 -4.19382953e-16  4.87408169e-17 -2.78296910e-16\n",
      "  1.54308227e-16  6.99268050e-17  1.72815050e-16 -2.47723256e-17\n",
      "  1.11853242e-16 -1.17055718e-16 -1.47731016e-16  5.53722378e-17\n",
      "  1.60140049e-16  3.54863606e-16  2.04965033e-16 -2.11769248e-16\n",
      " -2.43769306e-16 -3.27626415e-16 -2.48710896e-16 -3.61694927e-16\n",
      "  1.77915882e-16  5.96582245e-16  4.76179900e-16 -2.41353568e-16\n",
      " -4.24380447e-16 -9.14643117e-17  3.70485435e-16  3.78600011e-16\n",
      " -6.52808292e-16 -3.10617146e-16 -1.82857473e-16  4.04188876e-16\n",
      "  2.82383844e-16  3.04057723e-16  1.81959618e-16 -1.74902139e-16\n",
      " -4.49813459e-16 -3.35425047e-19 -1.08391418e-16  1.12914574e-16\n",
      "  1.42665759e-16 -5.32580436e-17  3.05170724e-16  6.24315798e-16\n",
      " -1.34683321e-16  3.80126364e-16 -5.57899945e-16  3.11271056e-16]\n"
     ]
    },
    {
     "data": {
      "image/png": "[encoded data removed]",
      "text/plain": [
       "<Figure size 432x288 with 1 Axes>"
      ]
     },
     "metadata": {
      "needs_background": "light"
     },
     "output_type": "display_data"
    }
   ],
   "source": [
    "pi = pib(params)\n",
    "pi.Psi = np.sqrt(1/2) * pi.eigenfunction(1) + np.sqrt(1/2) * pi.eigenfunction(2)\n",
    "plt.plot(pi.x, pi.Psi)\n",
    "\n",
    "pi.expand_pib()\n"
   ]
  },
  {
   "cell_type": "code",
   "execution_count": null,
   "metadata": {},
   "outputs": [],
   "source": [
    "import numpy as np\n",
    "import matplotlib.pyplot as plt\n",
    "import matplotlib.animation as animation\n",
    "\n",
    "\n",
    "def update_line(num, data, line):\n",
    "    line.set_data(data[..., :num])\n",
    "    return line,\n",
    "fig1 = plt.figure()\n",
    "\n",
    "# Fixing random state for reproducibility\n",
    "np.random.seed(19680801)\n",
    "\n",
    "data = np.random.rand(2, 25)\n",
    "l, = plt.plot([], [], 'r-')\n",
    "plt.xlim(0, 1)\n",
    "plt.ylim(0, 1)\n",
    "plt.xlabel('x')\n",
    "plt.title('test')\n",
    "line_ani = animation.FuncAnimation(fig1, update_line, 25, fargs=(data, l),\n",
    "                                   interval=50, blit=True)\n",
    "#ho = harmonic(params)\n",
    "#ho.Psi = ho.eigenfunction(4)\n",
    "#plt.plot(ho.x, ho.Psi**2)"
   ]
  },
  {
   "cell_type": "code",
   "execution_count": null,
   "metadata": {},
   "outputs": [],
   "source": [
    "wf.finite_difference_T_matrix()\n",
    "wf.finite_difference_V_matrix()\n",
    "wf.finite_difference_H_matrix()\n",
    "\n",
    "\n",
    "from scipy.sparse.linalg import eigs\n",
    "\n",
    "vals, vecs = eigs(wf.H_matrix, k=5,  which='SM')\n",
    "print(vals[0])\n",
    "\n",
    "plt.plot(wf.x, vecs[:,2]**2, 'red')\n",
    "#plt.plot(wf.x, wf.V, 'b--')\n",
    "#plt.ylim(0,0.005)\n",
    "plt.show()"
   ]
  },
  {
   "cell_type": "code",
   "execution_count": null,
   "metadata": {},
   "outputs": [],
   "source": [
    "\n",
    "from matplotlib import animation, rc\n",
    "from IPython.display import HTML\n",
    "\n",
    "# First set up the figure, the axis, and the plot element we want to animate\n",
    "fig, ax = plt.subplots()\n",
    "plt.close()\n",
    "\n",
    "\n",
    "### parameters for plot\n",
    "ax.set_xlim((-wf.L, wf.L))\n",
    "ax.set_ylim((-1, 2))\n",
    "\n",
    "line, = ax.plot([], [], lw=2)\n",
    "line1, = ax.plot([], [], lw=2)\n",
    "\n",
    "# initialization function: plot the background of each frame\n",
    "def init():\n",
    "    line.set_data([], [])\n",
    "    line1.set_data([], [])\n",
    "    return (line, line1,)"
   ]
  },
  {
   "cell_type": "code",
   "execution_count": null,
   "metadata": {},
   "outputs": [],
   "source": [
    "N_time = 300\n",
    "\n",
    "# animation function. This is called sequentially  \n",
    "def animate(i):\n",
    "    \n",
    "    line.set_data(wf.x, wf.Psi)\n",
    "    line1.set_data(wf.x, wf.V)\n",
    "    wf.split_op()\n",
    "    return (line, line1,)\n",
    "  \n",
    "anim = animation.FuncAnimation(fig, animate, init_func=init,\n",
    "                             frames=N_time, interval=100, blit=True)\n",
    "\n",
    "# Note: below is the part which makes it work on Colab\n",
    "rc('animation', html='jshtml')\n",
    "anim"
   ]
  },
  {
   "cell_type": "code",
   "execution_count": null,
   "metadata": {},
   "outputs": [],
   "source": []
  },
  {
   "cell_type": "code",
   "execution_count": null,
   "metadata": {},
   "outputs": [],
   "source": []
  }
 ],
 "metadata": {
  "kernelspec": {
   "display_name": "Python 3",
   "language": "python",
   "name": "python3"
  },
  "language_info": {
   "codemirror_mode": {
    "name": "ipython",
    "version": 3
   },
   "file_extension": ".py",
   "mimetype": "text/x-python",
   "name": "python",
   "nbconvert_exporter": "python",
   "pygments_lexer": "ipython3",
   "version": "3.7.6"
  }
 },
 "nbformat": 4,
 "nbformat_minor": 4
}
